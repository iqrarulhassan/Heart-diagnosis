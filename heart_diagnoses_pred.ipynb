{
 "cells": [
  {
   "cell_type": "raw",
   "id": "24e934b2",
   "metadata": {},
   "source": [
    "\"DEVLOPED BY\" : \"IQRAR UL HASSAN\",\n",
    "\"TOOL\" : \"JUPYTER NOTEBOOK\",\n",
    "\"REFRENCE \" : \"SCIKIT-LEARN OFFICIAL WEB-PAGE\"&\"GOOGLE\"    "
   ]
  },
  {
   "cell_type": "markdown",
   "id": "2cf5d4bb",
   "metadata": {},
   "source": [
    "# load libraries"
   ]
  },
  {
   "cell_type": "code",
   "execution_count": 1,
   "id": "6803f532",
   "metadata": {},
   "outputs": [],
   "source": [
    "import numpy as np\n",
    "import pandas as pd\n",
    "import matplotlib.pyplot as plt\n",
    "import seaborn as sns"
   ]
  },
  {
   "cell_type": "code",
   "execution_count": 2,
   "id": "efedf1cd",
   "metadata": {},
   "outputs": [],
   "source": [
    "path = r\"C:\\\\Users\\\\IQRAR UL HASSAN\\\\Desktop\\\\heart dignoses\\\\herat dataset\\\\heart_data.csv\"\n",
    "heart_data = pd.read_csv(path)"
   ]
  },
  {
   "cell_type": "markdown",
   "id": "6e375353",
   "metadata": {},
   "source": [
    "# INFO About Data"
   ]
  },
  {
   "cell_type": "code",
   "execution_count": 3,
   "id": "19088e29",
   "metadata": {},
   "outputs": [
    {
     "data": {
      "text/html": [
       "<div>\n",
       "<style scoped>\n",
       "    .dataframe tbody tr th:only-of-type {\n",
       "        vertical-align: middle;\n",
       "    }\n",
       "\n",
       "    .dataframe tbody tr th {\n",
       "        vertical-align: top;\n",
       "    }\n",
       "\n",
       "    .dataframe thead th {\n",
       "        text-align: right;\n",
       "    }\n",
       "</style>\n",
       "<table border=\"1\" class=\"dataframe\">\n",
       "  <thead>\n",
       "    <tr style=\"text-align: right;\">\n",
       "      <th></th>\n",
       "      <th>rest_bp</th>\n",
       "      <th>chest_pain</th>\n",
       "      <th>thalassemia</th>\n",
       "      <th>age</th>\n",
       "      <th>fasting_bs</th>\n",
       "      <th>max_hr</th>\n",
       "      <th>exercise_angina</th>\n",
       "      <th>gender</th>\n",
       "      <th>st_slope</th>\n",
       "      <th>cholesterol</th>\n",
       "      <th>st_depression</th>\n",
       "      <th>rest_ecg</th>\n",
       "      <th>num_vessels</th>\n",
       "      <th>diagnosis</th>\n",
       "    </tr>\n",
       "  </thead>\n",
       "  <tbody>\n",
       "    <tr>\n",
       "      <th>0</th>\n",
       "      <td>106</td>\n",
       "      <td>3</td>\n",
       "      <td>0</td>\n",
       "      <td>67</td>\n",
       "      <td>0</td>\n",
       "      <td>142</td>\n",
       "      <td>0</td>\n",
       "      <td>0</td>\n",
       "      <td>0</td>\n",
       "      <td>223</td>\n",
       "      <td>0.3</td>\n",
       "      <td>0</td>\n",
       "      <td>2</td>\n",
       "      <td>0</td>\n",
       "    </tr>\n",
       "    <tr>\n",
       "      <th>1</th>\n",
       "      <td>120</td>\n",
       "      <td>2</td>\n",
       "      <td>0</td>\n",
       "      <td>50</td>\n",
       "      <td>0</td>\n",
       "      <td>158</td>\n",
       "      <td>0</td>\n",
       "      <td>0</td>\n",
       "      <td>1</td>\n",
       "      <td>219</td>\n",
       "      <td>1.6</td>\n",
       "      <td>0</td>\n",
       "      <td>0</td>\n",
       "      <td>0</td>\n",
       "    </tr>\n",
       "    <tr>\n",
       "      <th>2</th>\n",
       "      <td>126</td>\n",
       "      <td>3</td>\n",
       "      <td>2</td>\n",
       "      <td>35</td>\n",
       "      <td>0</td>\n",
       "      <td>156</td>\n",
       "      <td>1</td>\n",
       "      <td>1</td>\n",
       "      <td>0</td>\n",
       "      <td>282</td>\n",
       "      <td>0.0</td>\n",
       "      <td>2</td>\n",
       "      <td>0</td>\n",
       "      <td>1</td>\n",
       "    </tr>\n",
       "    <tr>\n",
       "      <th>3</th>\n",
       "      <td>150</td>\n",
       "      <td>3</td>\n",
       "      <td>2</td>\n",
       "      <td>63</td>\n",
       "      <td>0</td>\n",
       "      <td>154</td>\n",
       "      <td>0</td>\n",
       "      <td>0</td>\n",
       "      <td>1</td>\n",
       "      <td>407</td>\n",
       "      <td>4.0</td>\n",
       "      <td>2</td>\n",
       "      <td>3</td>\n",
       "      <td>1</td>\n",
       "    </tr>\n",
       "    <tr>\n",
       "      <th>4</th>\n",
       "      <td>140</td>\n",
       "      <td>3</td>\n",
       "      <td>2</td>\n",
       "      <td>46</td>\n",
       "      <td>0</td>\n",
       "      <td>120</td>\n",
       "      <td>1</td>\n",
       "      <td>1</td>\n",
       "      <td>1</td>\n",
       "      <td>311</td>\n",
       "      <td>1.8</td>\n",
       "      <td>0</td>\n",
       "      <td>2</td>\n",
       "      <td>1</td>\n",
       "    </tr>\n",
       "  </tbody>\n",
       "</table>\n",
       "</div>"
      ],
      "text/plain": [
       "   rest_bp  chest_pain  thalassemia  age  fasting_bs  max_hr  exercise_angina  \\\n",
       "0      106           3            0   67           0     142                0   \n",
       "1      120           2            0   50           0     158                0   \n",
       "2      126           3            2   35           0     156                1   \n",
       "3      150           3            2   63           0     154                0   \n",
       "4      140           3            2   46           0     120                1   \n",
       "\n",
       "   gender  st_slope  cholesterol  st_depression  rest_ecg  num_vessels  \\\n",
       "0       0         0          223            0.3         0            2   \n",
       "1       0         1          219            1.6         0            0   \n",
       "2       1         0          282            0.0         2            0   \n",
       "3       0         1          407            4.0         2            3   \n",
       "4       1         1          311            1.8         0            2   \n",
       "\n",
       "   diagnosis  \n",
       "0          0  \n",
       "1          0  \n",
       "2          1  \n",
       "3          1  \n",
       "4          1  "
      ]
     },
     "execution_count": 3,
     "metadata": {},
     "output_type": "execute_result"
    }
   ],
   "source": [
    "#head of data\n",
    "heart_data.head(5)"
   ]
  },
  {
   "cell_type": "code",
   "execution_count": 4,
   "id": "35413bdb",
   "metadata": {},
   "outputs": [
    {
     "data": {
      "text/html": [
       "<div>\n",
       "<style scoped>\n",
       "    .dataframe tbody tr th:only-of-type {\n",
       "        vertical-align: middle;\n",
       "    }\n",
       "\n",
       "    .dataframe tbody tr th {\n",
       "        vertical-align: top;\n",
       "    }\n",
       "\n",
       "    .dataframe thead th {\n",
       "        text-align: right;\n",
       "    }\n",
       "</style>\n",
       "<table border=\"1\" class=\"dataframe\">\n",
       "  <thead>\n",
       "    <tr style=\"text-align: right;\">\n",
       "      <th></th>\n",
       "      <th>rest_bp</th>\n",
       "      <th>chest_pain</th>\n",
       "      <th>thalassemia</th>\n",
       "      <th>age</th>\n",
       "      <th>fasting_bs</th>\n",
       "      <th>max_hr</th>\n",
       "      <th>exercise_angina</th>\n",
       "      <th>gender</th>\n",
       "      <th>st_slope</th>\n",
       "      <th>cholesterol</th>\n",
       "      <th>st_depression</th>\n",
       "      <th>rest_ecg</th>\n",
       "      <th>num_vessels</th>\n",
       "      <th>diagnosis</th>\n",
       "    </tr>\n",
       "  </thead>\n",
       "  <tbody>\n",
       "    <tr>\n",
       "      <th>293</th>\n",
       "      <td>100</td>\n",
       "      <td>3</td>\n",
       "      <td>0</td>\n",
       "      <td>58</td>\n",
       "      <td>0</td>\n",
       "      <td>122</td>\n",
       "      <td>0</td>\n",
       "      <td>0</td>\n",
       "      <td>1</td>\n",
       "      <td>248</td>\n",
       "      <td>1.0</td>\n",
       "      <td>2</td>\n",
       "      <td>0</td>\n",
       "      <td>0</td>\n",
       "    </tr>\n",
       "    <tr>\n",
       "      <th>294</th>\n",
       "      <td>138</td>\n",
       "      <td>3</td>\n",
       "      <td>0</td>\n",
       "      <td>59</td>\n",
       "      <td>0</td>\n",
       "      <td>182</td>\n",
       "      <td>0</td>\n",
       "      <td>1</td>\n",
       "      <td>0</td>\n",
       "      <td>271</td>\n",
       "      <td>0.0</td>\n",
       "      <td>2</td>\n",
       "      <td>0</td>\n",
       "      <td>0</td>\n",
       "    </tr>\n",
       "    <tr>\n",
       "      <th>295</th>\n",
       "      <td>130</td>\n",
       "      <td>3</td>\n",
       "      <td>2</td>\n",
       "      <td>56</td>\n",
       "      <td>1</td>\n",
       "      <td>103</td>\n",
       "      <td>1</td>\n",
       "      <td>1</td>\n",
       "      <td>2</td>\n",
       "      <td>283</td>\n",
       "      <td>1.6</td>\n",
       "      <td>2</td>\n",
       "      <td>0</td>\n",
       "      <td>1</td>\n",
       "    </tr>\n",
       "    <tr>\n",
       "      <th>296</th>\n",
       "      <td>150</td>\n",
       "      <td>3</td>\n",
       "      <td>2</td>\n",
       "      <td>50</td>\n",
       "      <td>0</td>\n",
       "      <td>128</td>\n",
       "      <td>0</td>\n",
       "      <td>1</td>\n",
       "      <td>1</td>\n",
       "      <td>243</td>\n",
       "      <td>2.6</td>\n",
       "      <td>2</td>\n",
       "      <td>0</td>\n",
       "      <td>1</td>\n",
       "    </tr>\n",
       "  </tbody>\n",
       "</table>\n",
       "</div>"
      ],
      "text/plain": [
       "     rest_bp  chest_pain  thalassemia  age  fasting_bs  max_hr  \\\n",
       "293      100           3            0   58           0     122   \n",
       "294      138           3            0   59           0     182   \n",
       "295      130           3            2   56           1     103   \n",
       "296      150           3            2   50           0     128   \n",
       "\n",
       "     exercise_angina  gender  st_slope  cholesterol  st_depression  rest_ecg  \\\n",
       "293                0       0         1          248            1.0         2   \n",
       "294                0       1         0          271            0.0         2   \n",
       "295                1       1         2          283            1.6         2   \n",
       "296                0       1         1          243            2.6         2   \n",
       "\n",
       "     num_vessels  diagnosis  \n",
       "293            0          0  \n",
       "294            0          0  \n",
       "295            0          1  \n",
       "296            0          1  "
      ]
     },
     "execution_count": 4,
     "metadata": {},
     "output_type": "execute_result"
    }
   ],
   "source": [
    "#tail of the data\n",
    "heart_data.tail(4)"
   ]
  },
  {
   "cell_type": "code",
   "execution_count": 5,
   "id": "27085591",
   "metadata": {},
   "outputs": [
    {
     "name": "stdout",
     "output_type": "stream",
     "text": [
      "<class 'pandas.core.frame.DataFrame'>\n",
      "RangeIndex: 297 entries, 0 to 296\n",
      "Data columns (total 14 columns):\n",
      " #   Column           Non-Null Count  Dtype  \n",
      "---  ------           --------------  -----  \n",
      " 0   rest_bp          297 non-null    int64  \n",
      " 1   chest_pain       297 non-null    int64  \n",
      " 2   thalassemia      297 non-null    int64  \n",
      " 3   age              297 non-null    int64  \n",
      " 4   fasting_bs       297 non-null    int64  \n",
      " 5   max_hr           297 non-null    int64  \n",
      " 6   exercise_angina  297 non-null    int64  \n",
      " 7   gender           297 non-null    int64  \n",
      " 8   st_slope         297 non-null    int64  \n",
      " 9   cholesterol      297 non-null    int64  \n",
      " 10  st_depression    297 non-null    float64\n",
      " 11  rest_ecg         297 non-null    int64  \n",
      " 12  num_vessels      297 non-null    int64  \n",
      " 13  diagnosis        297 non-null    int64  \n",
      "dtypes: float64(1), int64(13)\n",
      "memory usage: 32.6 KB\n"
     ]
    }
   ],
   "source": [
    "#info of data\n",
    "heart_data.info()\n",
    "# according to information we have no object/categorical/mix of data"
   ]
  },
  {
   "cell_type": "code",
   "execution_count": 6,
   "id": "f90426b8",
   "metadata": {},
   "outputs": [
    {
     "data": {
      "text/html": [
       "<div>\n",
       "<style scoped>\n",
       "    .dataframe tbody tr th:only-of-type {\n",
       "        vertical-align: middle;\n",
       "    }\n",
       "\n",
       "    .dataframe tbody tr th {\n",
       "        vertical-align: top;\n",
       "    }\n",
       "\n",
       "    .dataframe thead th {\n",
       "        text-align: right;\n",
       "    }\n",
       "</style>\n",
       "<table border=\"1\" class=\"dataframe\">\n",
       "  <thead>\n",
       "    <tr style=\"text-align: right;\">\n",
       "      <th></th>\n",
       "      <th>rest_bp</th>\n",
       "      <th>chest_pain</th>\n",
       "      <th>thalassemia</th>\n",
       "      <th>age</th>\n",
       "      <th>fasting_bs</th>\n",
       "      <th>max_hr</th>\n",
       "      <th>exercise_angina</th>\n",
       "      <th>gender</th>\n",
       "      <th>st_slope</th>\n",
       "      <th>cholesterol</th>\n",
       "      <th>st_depression</th>\n",
       "      <th>rest_ecg</th>\n",
       "      <th>num_vessels</th>\n",
       "      <th>diagnosis</th>\n",
       "    </tr>\n",
       "  </thead>\n",
       "  <tbody>\n",
       "    <tr>\n",
       "      <th>count</th>\n",
       "      <td>297.000000</td>\n",
       "      <td>297.000000</td>\n",
       "      <td>297.000000</td>\n",
       "      <td>297.000000</td>\n",
       "      <td>297.000000</td>\n",
       "      <td>297.000000</td>\n",
       "      <td>297.000000</td>\n",
       "      <td>297.000000</td>\n",
       "      <td>297.000000</td>\n",
       "      <td>297.000000</td>\n",
       "      <td>297.000000</td>\n",
       "      <td>297.000000</td>\n",
       "      <td>297.000000</td>\n",
       "      <td>297.000000</td>\n",
       "    </tr>\n",
       "    <tr>\n",
       "      <th>mean</th>\n",
       "      <td>131.693603</td>\n",
       "      <td>2.158249</td>\n",
       "      <td>0.835017</td>\n",
       "      <td>54.542088</td>\n",
       "      <td>0.144781</td>\n",
       "      <td>149.599327</td>\n",
       "      <td>0.326599</td>\n",
       "      <td>0.676768</td>\n",
       "      <td>0.602694</td>\n",
       "      <td>247.350168</td>\n",
       "      <td>1.055556</td>\n",
       "      <td>0.996633</td>\n",
       "      <td>0.676768</td>\n",
       "      <td>0.461279</td>\n",
       "    </tr>\n",
       "    <tr>\n",
       "      <th>std</th>\n",
       "      <td>17.762806</td>\n",
       "      <td>0.964859</td>\n",
       "      <td>0.956690</td>\n",
       "      <td>9.049736</td>\n",
       "      <td>0.352474</td>\n",
       "      <td>22.941562</td>\n",
       "      <td>0.469761</td>\n",
       "      <td>0.468500</td>\n",
       "      <td>0.618187</td>\n",
       "      <td>51.997583</td>\n",
       "      <td>1.166123</td>\n",
       "      <td>0.994914</td>\n",
       "      <td>0.938965</td>\n",
       "      <td>0.499340</td>\n",
       "    </tr>\n",
       "    <tr>\n",
       "      <th>min</th>\n",
       "      <td>94.000000</td>\n",
       "      <td>0.000000</td>\n",
       "      <td>0.000000</td>\n",
       "      <td>29.000000</td>\n",
       "      <td>0.000000</td>\n",
       "      <td>71.000000</td>\n",
       "      <td>0.000000</td>\n",
       "      <td>0.000000</td>\n",
       "      <td>0.000000</td>\n",
       "      <td>126.000000</td>\n",
       "      <td>0.000000</td>\n",
       "      <td>0.000000</td>\n",
       "      <td>0.000000</td>\n",
       "      <td>0.000000</td>\n",
       "    </tr>\n",
       "    <tr>\n",
       "      <th>25%</th>\n",
       "      <td>120.000000</td>\n",
       "      <td>2.000000</td>\n",
       "      <td>0.000000</td>\n",
       "      <td>48.000000</td>\n",
       "      <td>0.000000</td>\n",
       "      <td>133.000000</td>\n",
       "      <td>0.000000</td>\n",
       "      <td>0.000000</td>\n",
       "      <td>0.000000</td>\n",
       "      <td>211.000000</td>\n",
       "      <td>0.000000</td>\n",
       "      <td>0.000000</td>\n",
       "      <td>0.000000</td>\n",
       "      <td>0.000000</td>\n",
       "    </tr>\n",
       "    <tr>\n",
       "      <th>50%</th>\n",
       "      <td>130.000000</td>\n",
       "      <td>2.000000</td>\n",
       "      <td>0.000000</td>\n",
       "      <td>56.000000</td>\n",
       "      <td>0.000000</td>\n",
       "      <td>153.000000</td>\n",
       "      <td>0.000000</td>\n",
       "      <td>1.000000</td>\n",
       "      <td>1.000000</td>\n",
       "      <td>243.000000</td>\n",
       "      <td>0.800000</td>\n",
       "      <td>1.000000</td>\n",
       "      <td>0.000000</td>\n",
       "      <td>0.000000</td>\n",
       "    </tr>\n",
       "    <tr>\n",
       "      <th>75%</th>\n",
       "      <td>140.000000</td>\n",
       "      <td>3.000000</td>\n",
       "      <td>2.000000</td>\n",
       "      <td>61.000000</td>\n",
       "      <td>0.000000</td>\n",
       "      <td>166.000000</td>\n",
       "      <td>1.000000</td>\n",
       "      <td>1.000000</td>\n",
       "      <td>1.000000</td>\n",
       "      <td>276.000000</td>\n",
       "      <td>1.600000</td>\n",
       "      <td>2.000000</td>\n",
       "      <td>1.000000</td>\n",
       "      <td>1.000000</td>\n",
       "    </tr>\n",
       "    <tr>\n",
       "      <th>max</th>\n",
       "      <td>200.000000</td>\n",
       "      <td>3.000000</td>\n",
       "      <td>2.000000</td>\n",
       "      <td>77.000000</td>\n",
       "      <td>1.000000</td>\n",
       "      <td>202.000000</td>\n",
       "      <td>1.000000</td>\n",
       "      <td>1.000000</td>\n",
       "      <td>2.000000</td>\n",
       "      <td>564.000000</td>\n",
       "      <td>6.200000</td>\n",
       "      <td>2.000000</td>\n",
       "      <td>3.000000</td>\n",
       "      <td>1.000000</td>\n",
       "    </tr>\n",
       "  </tbody>\n",
       "</table>\n",
       "</div>"
      ],
      "text/plain": [
       "          rest_bp  chest_pain  thalassemia         age  fasting_bs  \\\n",
       "count  297.000000  297.000000   297.000000  297.000000  297.000000   \n",
       "mean   131.693603    2.158249     0.835017   54.542088    0.144781   \n",
       "std     17.762806    0.964859     0.956690    9.049736    0.352474   \n",
       "min     94.000000    0.000000     0.000000   29.000000    0.000000   \n",
       "25%    120.000000    2.000000     0.000000   48.000000    0.000000   \n",
       "50%    130.000000    2.000000     0.000000   56.000000    0.000000   \n",
       "75%    140.000000    3.000000     2.000000   61.000000    0.000000   \n",
       "max    200.000000    3.000000     2.000000   77.000000    1.000000   \n",
       "\n",
       "           max_hr  exercise_angina      gender    st_slope  cholesterol  \\\n",
       "count  297.000000       297.000000  297.000000  297.000000   297.000000   \n",
       "mean   149.599327         0.326599    0.676768    0.602694   247.350168   \n",
       "std     22.941562         0.469761    0.468500    0.618187    51.997583   \n",
       "min     71.000000         0.000000    0.000000    0.000000   126.000000   \n",
       "25%    133.000000         0.000000    0.000000    0.000000   211.000000   \n",
       "50%    153.000000         0.000000    1.000000    1.000000   243.000000   \n",
       "75%    166.000000         1.000000    1.000000    1.000000   276.000000   \n",
       "max    202.000000         1.000000    1.000000    2.000000   564.000000   \n",
       "\n",
       "       st_depression    rest_ecg  num_vessels   diagnosis  \n",
       "count     297.000000  297.000000   297.000000  297.000000  \n",
       "mean        1.055556    0.996633     0.676768    0.461279  \n",
       "std         1.166123    0.994914     0.938965    0.499340  \n",
       "min         0.000000    0.000000     0.000000    0.000000  \n",
       "25%         0.000000    0.000000     0.000000    0.000000  \n",
       "50%         0.800000    1.000000     0.000000    0.000000  \n",
       "75%         1.600000    2.000000     1.000000    1.000000  \n",
       "max         6.200000    2.000000     3.000000    1.000000  "
      ]
     },
     "execution_count": 6,
     "metadata": {},
     "output_type": "execute_result"
    }
   ],
   "source": [
    "#statistical information\n",
    "heart_data.describe()"
   ]
  },
  {
   "cell_type": "markdown",
   "id": "e040e03e",
   "metadata": {},
   "source": [
    "# Null values presant in dataset"
   ]
  },
  {
   "cell_type": "code",
   "execution_count": 7,
   "id": "e42f3270",
   "metadata": {},
   "outputs": [
    {
     "data": {
      "text/plain": [
       "rest_bp            0.0\n",
       "chest_pain         0.0\n",
       "thalassemia        0.0\n",
       "age                0.0\n",
       "fasting_bs         0.0\n",
       "max_hr             0.0\n",
       "exercise_angina    0.0\n",
       "gender             0.0\n",
       "st_slope           0.0\n",
       "cholesterol        0.0\n",
       "st_depression      0.0\n",
       "rest_ecg           0.0\n",
       "num_vessels        0.0\n",
       "diagnosis          0.0\n",
       "dtype: float64"
      ]
     },
     "execution_count": 7,
     "metadata": {},
     "output_type": "execute_result"
    }
   ],
   "source": [
    "miss_percent = heart_data.isnull().sum()/heart_data.shape[0]*100\n",
    "miss_percent\n",
    "#no null values"
   ]
  },
  {
   "cell_type": "markdown",
   "id": "54e77717",
   "metadata": {},
   "source": [
    "# slipt the dataset (feature & target variable) in (X , y)"
   ]
  },
  {
   "cell_type": "code",
   "execution_count": 8,
   "id": "325f8e95",
   "metadata": {},
   "outputs": [
    {
     "name": "stdout",
     "output_type": "stream",
     "text": [
      "x: (297, 13) y: (297,)\n"
     ]
    },
    {
     "data": {
      "text/plain": [
       "\"X = heart_data.drop(heart_data['diagnosis'])\\ny = heart_data['diagnosis']\\nprint('x:',X.shape ,'y:',y.shape )\""
      ]
     },
     "execution_count": 8,
     "metadata": {},
     "output_type": "execute_result"
    }
   ],
   "source": [
    "#method First (using loc[],iloc[] method)\n",
    "X = heart_data.iloc[: , :-1]\n",
    "y = heart_data.iloc[:, -1]\n",
    "print('x:',X.shape ,'y:',y.shape )\n",
    "#method second (using drop function)\n",
    "'''X = heart_data.drop(heart_data['diagnosis'])\n",
    "y = heart_data['diagnosis']\n",
    "print('x:',X.shape ,'y:',y.shape )'''"
   ]
  },
  {
   "cell_type": "markdown",
   "id": "ce046de2",
   "metadata": {},
   "source": [
    "# Split data into (X_train,X_test,y_train,y_test)"
   ]
  },
  {
   "cell_type": "code",
   "execution_count": 9,
   "id": "f7fad863",
   "metadata": {},
   "outputs": [],
   "source": [
    "from sklearn.model_selection import train_test_split"
   ]
  },
  {
   "cell_type": "code",
   "execution_count": 10,
   "id": "571da4ac",
   "metadata": {},
   "outputs": [
    {
     "name": "stdout",
     "output_type": "stream",
     "text": [
      "shpe of x_train: (237, 13)\n",
      "shpe of X_test: (60, 13)\n",
      "shpe of y_train: (237,)\n",
      "shpe of y_test: (60,)\n"
     ]
    }
   ],
   "source": [
    "X_train,X_test,y_train,y_test = train_test_split(X, y, test_size=0.2, random_state=2024)\n",
    "print('shpe of x_train:',X_train.shape)\n",
    "print('shpe of X_test:',X_test.shape)\n",
    "print('shpe of y_train:',y_train.shape)\n",
    "print('shpe of y_test:',y_test.shape)"
   ]
  },
  {
   "cell_type": "markdown",
   "id": "6d3fa272",
   "metadata": {},
   "source": [
    "# Standardization feature scaling"
   ]
  },
  {
   "cell_type": "code",
   "execution_count": 11,
   "id": "633dd96e",
   "metadata": {},
   "outputs": [],
   "source": [
    "from sklearn.preprocessing import StandardScaler"
   ]
  },
  {
   "cell_type": "code",
   "execution_count": 12,
   "id": "5a63201f",
   "metadata": {},
   "outputs": [],
   "source": [
    "heart_sc = StandardScaler()"
   ]
  },
  {
   "cell_type": "code",
   "execution_count": 13,
   "id": "a51d6422",
   "metadata": {},
   "outputs": [
    {
     "data": {
      "text/html": [
       "<style>#sk-container-id-1 {color: black;}#sk-container-id-1 pre{padding: 0;}#sk-container-id-1 div.sk-toggleable {background-color: white;}#sk-container-id-1 label.sk-toggleable__label {cursor: pointer;display: block;width: 100%;margin-bottom: 0;padding: 0.3em;box-sizing: border-box;text-align: center;}#sk-container-id-1 label.sk-toggleable__label-arrow:before {content: \"▸\";float: left;margin-right: 0.25em;color: #696969;}#sk-container-id-1 label.sk-toggleable__label-arrow:hover:before {color: black;}#sk-container-id-1 div.sk-estimator:hover label.sk-toggleable__label-arrow:before {color: black;}#sk-container-id-1 div.sk-toggleable__content {max-height: 0;max-width: 0;overflow: hidden;text-align: left;background-color: #f0f8ff;}#sk-container-id-1 div.sk-toggleable__content pre {margin: 0.2em;color: black;border-radius: 0.25em;background-color: #f0f8ff;}#sk-container-id-1 input.sk-toggleable__control:checked~div.sk-toggleable__content {max-height: 200px;max-width: 100%;overflow: auto;}#sk-container-id-1 input.sk-toggleable__control:checked~label.sk-toggleable__label-arrow:before {content: \"▾\";}#sk-container-id-1 div.sk-estimator input.sk-toggleable__control:checked~label.sk-toggleable__label {background-color: #d4ebff;}#sk-container-id-1 div.sk-label input.sk-toggleable__control:checked~label.sk-toggleable__label {background-color: #d4ebff;}#sk-container-id-1 input.sk-hidden--visually {border: 0;clip: rect(1px 1px 1px 1px);clip: rect(1px, 1px, 1px, 1px);height: 1px;margin: -1px;overflow: hidden;padding: 0;position: absolute;width: 1px;}#sk-container-id-1 div.sk-estimator {font-family: monospace;background-color: #f0f8ff;border: 1px dotted black;border-radius: 0.25em;box-sizing: border-box;margin-bottom: 0.5em;}#sk-container-id-1 div.sk-estimator:hover {background-color: #d4ebff;}#sk-container-id-1 div.sk-parallel-item::after {content: \"\";width: 100%;border-bottom: 1px solid gray;flex-grow: 1;}#sk-container-id-1 div.sk-label:hover label.sk-toggleable__label {background-color: #d4ebff;}#sk-container-id-1 div.sk-serial::before {content: \"\";position: absolute;border-left: 1px solid gray;box-sizing: border-box;top: 0;bottom: 0;left: 50%;z-index: 0;}#sk-container-id-1 div.sk-serial {display: flex;flex-direction: column;align-items: center;background-color: white;padding-right: 0.2em;padding-left: 0.2em;position: relative;}#sk-container-id-1 div.sk-item {position: relative;z-index: 1;}#sk-container-id-1 div.sk-parallel {display: flex;align-items: stretch;justify-content: center;background-color: white;position: relative;}#sk-container-id-1 div.sk-item::before, #sk-container-id-1 div.sk-parallel-item::before {content: \"\";position: absolute;border-left: 1px solid gray;box-sizing: border-box;top: 0;bottom: 0;left: 50%;z-index: -1;}#sk-container-id-1 div.sk-parallel-item {display: flex;flex-direction: column;z-index: 1;position: relative;background-color: white;}#sk-container-id-1 div.sk-parallel-item:first-child::after {align-self: flex-end;width: 50%;}#sk-container-id-1 div.sk-parallel-item:last-child::after {align-self: flex-start;width: 50%;}#sk-container-id-1 div.sk-parallel-item:only-child::after {width: 0;}#sk-container-id-1 div.sk-dashed-wrapped {border: 1px dashed gray;margin: 0 0.4em 0.5em 0.4em;box-sizing: border-box;padding-bottom: 0.4em;background-color: white;}#sk-container-id-1 div.sk-label label {font-family: monospace;font-weight: bold;display: inline-block;line-height: 1.2em;}#sk-container-id-1 div.sk-label-container {text-align: center;}#sk-container-id-1 div.sk-container {/* jupyter's `normalize.less` sets `[hidden] { display: none; }` but bootstrap.min.css set `[hidden] { display: none !important; }` so we also need the `!important` here to be able to override the default hidden behavior on the sphinx rendered scikit-learn.org. See: https://github.com/scikit-learn/scikit-learn/issues/21755 */display: inline-block !important;position: relative;}#sk-container-id-1 div.sk-text-repr-fallback {display: none;}</style><div id=\"sk-container-id-1\" class=\"sk-top-container\"><div class=\"sk-text-repr-fallback\"><pre>StandardScaler()</pre><b>In a Jupyter environment, please rerun this cell to show the HTML representation or trust the notebook. <br />On GitHub, the HTML representation is unable to render, please try loading this page with nbviewer.org.</b></div><div class=\"sk-container\" hidden><div class=\"sk-item\"><div class=\"sk-estimator sk-toggleable\"><input class=\"sk-toggleable__control sk-hidden--visually\" id=\"sk-estimator-id-1\" type=\"checkbox\" checked><label for=\"sk-estimator-id-1\" class=\"sk-toggleable__label sk-toggleable__label-arrow\">StandardScaler</label><div class=\"sk-toggleable__content\"><pre>StandardScaler()</pre></div></div></div></div></div>"
      ],
      "text/plain": [
       "StandardScaler()"
      ]
     },
     "execution_count": 13,
     "metadata": {},
     "output_type": "execute_result"
    }
   ],
   "source": [
    "heart_sc.fit(X_train)"
   ]
  },
  {
   "cell_type": "code",
   "execution_count": 14,
   "id": "231079ac",
   "metadata": {},
   "outputs": [
    {
     "data": {
      "text/plain": [
       "array([[-1.24285990e-01,  8.80429891e-01, -8.55643520e-01,\n",
       "         1.07574836e+00, -4.30116263e-01, -1.29778749e+00,\n",
       "        -6.73786116e-01, -1.44149994e+00,  6.75922266e-01,\n",
       "         1.16018698e+00,  8.49627485e-01, -1.03220314e+00,\n",
       "         1.40772095e+00],\n",
       "       [-6.85348461e-01,  8.80429891e-01,  1.25672642e+00,\n",
       "         8.51614417e-01, -4.30116263e-01, -2.33995596e+00,\n",
       "         1.48415050e+00,  6.93721846e-01,  6.75922266e-01,\n",
       "         4.26514039e-01,  6.75514460e-01, -1.03220314e+00,\n",
       "         1.40772095e+00],\n",
       "       [-2.36498484e-01,  8.80429891e-01,  1.25672642e+00,\n",
       "        -2.69055304e-01, -4.30116263e-01,  4.69367749e-01,\n",
       "         1.48415050e+00,  6.93721846e-01, -9.92760829e-01,\n",
       "         1.81956393e-01, -8.91502770e-01, -1.03220314e+00,\n",
       "         3.38394459e-01],\n",
       "       [-1.24641093e+00, -1.78767491e-01, -8.55643520e-01,\n",
       "        -3.81122277e-01, -4.30116263e-01, -1.25247581e+00,\n",
       "        -6.73786116e-01,  6.93721846e-01, -9.92760829e-01,\n",
       "        -1.44842792e+00, -3.69163693e-01, -1.03220314e+00,\n",
       "        -7.30932031e-01],\n",
       "       [-6.85348461e-01, -1.23796487e+00, -8.55643520e-01,\n",
       "         1.79212584e-01, -4.30116263e-01,  1.23966618e+00,\n",
       "        -6.73786116e-01,  6.93721846e-01, -9.92760829e-01,\n",
       "        -2.05259881e-01, -1.95050668e-01, -1.03220314e+00,\n",
       "        -7.30932031e-01],\n",
       "       [ 4.36776480e-01,  8.80429891e-01, -8.55643520e-01,\n",
       "        -4.49213601e-02, -4.30116263e-01,  4.24056076e-01,\n",
       "        -6.73786116e-01,  6.93721846e-01, -9.92760829e-01,\n",
       "        -1.44120470e-01,  1.53175383e-01, -1.03220314e+00,\n",
       "        -7.30932031e-01],\n",
       "       [-6.85348461e-01, -1.23796487e+00, -8.55643520e-01,\n",
       "        -2.69055304e-01, -4.30116263e-01,  9.67796148e-01,\n",
       "        -6.73786116e-01,  6.93721846e-01, -9.92760829e-01,\n",
       "         1.60854267e+00, -7.17389744e-01, -1.03220314e+00,\n",
       "        -7.30932031e-01],\n",
       "       [-1.35862343e+00, -1.23796487e+00,  1.25672642e+00,\n",
       "        -4.49213601e-02, -4.30116263e-01,  2.42809385e-01,\n",
       "        -6.73786116e-01,  6.93721846e-01, -9.92760829e-01,\n",
       "         1.28246580e+00, -8.91502770e-01, -1.03220314e+00,\n",
       "        -7.30932031e-01],\n",
       "       [ 9.97838951e-01, -2.29716225e+00, -8.55643520e-01,\n",
       "         1.29988231e+00, -4.30116263e-01, -1.66028087e+00,\n",
       "        -6.73786116e-01, -1.44149994e+00,  2.34460536e+00,\n",
       "        -4.09057920e-01,  1.37196656e+00, -1.03220314e+00,\n",
       "        -7.30932031e-01],\n",
       "       [ 4.36776480e-01, -2.29716225e+00, -8.55643520e-01,\n",
       "         1.63608322e+00, -4.30116263e-01,  1.62510218e-02,\n",
       "        -6.73786116e-01, -1.44149994e+00, -9.92760829e-01,\n",
       "        -1.44120470e-01,  6.75514460e-01, -1.03220314e+00,\n",
       "         1.40772095e+00],\n",
       "       [ 1.11005145e+00,  8.80429891e-01,  1.25672642e+00,\n",
       "        -1.61385897e+00, -4.30116263e-01,  1.37560120e+00,\n",
       "        -6.73786116e-01,  6.93721846e-01, -9.92760829e-01,\n",
       "        -4.70197332e-01, -8.91502770e-01, -1.03220314e+00,\n",
       "        -7.30932031e-01],\n",
       "       [-1.52694217e+00, -1.78767491e-01,  1.25672642e+00,\n",
       "         4.03346528e-01, -4.30116263e-01,  1.52186040e-01,\n",
       "         1.48415050e+00,  6.93721846e-01,  6.75922266e-01,\n",
       "        -1.23740666e-01, -3.69163693e-01,  9.81230147e-01,\n",
       "        -7.30932031e-01],\n",
       "       [ 9.97838951e-01, -1.78767491e-01, -8.55643520e-01,\n",
       "         2.91279556e-01, -4.30116263e-01,  1.05841949e+00,\n",
       "        -6.73786116e-01,  6.93721846e-01, -9.92760829e-01,\n",
       "        -1.59108655e+00,  5.01401434e-01, -1.03220314e+00,\n",
       "        -7.30932031e-01],\n",
       "       [-1.24641093e+00,  8.80429891e-01,  1.25672642e+00,\n",
       "        -4.49213601e-02, -4.30116263e-01, -1.11654080e+00,\n",
       "         1.48415050e+00,  6.93721846e-01,  6.75922266e-01,\n",
       "        -1.44120470e-01,  1.54607959e+00, -1.03220314e+00,\n",
       "         3.38394459e-01],\n",
       "       [-4.04817226e-01, -1.78767491e-01,  1.25672642e+00,\n",
       "         1.07574836e+00, -4.30116263e-01, -8.89982432e-01,\n",
       "         1.48415050e+00,  6.93721846e-01,  6.75922266e-01,\n",
       "         1.28246580e+00,  6.75514460e-01, -1.03220314e+00,\n",
       "        -7.30932031e-01],\n",
       "       [-6.85348461e-01, -2.29716225e+00,  1.25672642e+00,\n",
       "         1.79212584e-01, -4.30116263e-01,  5.14679421e-01,\n",
       "        -6.73786116e-01,  6.93721846e-01,  6.75922266e-01,\n",
       "        -1.08159145e+00,  7.62570973e-01,  9.81230147e-01,\n",
       "        -7.30932031e-01],\n",
       "       [-1.24285990e-01,  8.80429891e-01, -8.55643520e-01,\n",
       "         4.03346528e-01, -4.30116263e-01, -8.89982432e-01,\n",
       "        -6.73786116e-01, -1.44149994e+00,  6.75922266e-01,\n",
       "        -1.00007223e+00, -3.69163693e-01, -1.03220314e+00,\n",
       "        -7.30932031e-01],\n",
       "       [ 4.36776480e-01,  8.80429891e-01, -8.55643520e-01,\n",
       "        -3.81122277e-01, -4.30116263e-01,  1.60215957e+00,\n",
       "         1.48415050e+00,  6.93721846e-01, -9.92760829e-01,\n",
       "         3.04235216e-01, -8.91502770e-01,  9.81230147e-01,\n",
       "        -7.30932031e-01],\n",
       "       [-1.24285990e-01, -1.78767491e-01, -8.55643520e-01,\n",
       "        -1.95005989e+00, -4.30116263e-01,  1.64747124e+00,\n",
       "        -6.73786116e-01,  6.93721846e-01,  2.34460536e+00,\n",
       "         8.00573731e-02,  2.15547518e+00, -1.03220314e+00,\n",
       "        -7.30932031e-01],\n",
       "       [ 4.36776480e-01, -1.78767491e-01, -8.55643520e-01,\n",
       "        -1.16559108e+00, -4.30116263e-01,  1.33028953e+00,\n",
       "        -6.73786116e-01,  6.93721846e-01, -9.92760829e-01,\n",
       "        -2.25639685e-01, -8.91502770e-01,  9.81230147e-01,\n",
       "        -7.30932031e-01],\n",
       "       [ 2.11996389e+00, -2.29716225e+00,  1.25672642e+00,\n",
       "         1.07574836e+00, -4.30116263e-01,  1.97497713e-01,\n",
       "        -6.73786116e-01,  6.93721846e-01,  6.75922266e-01,\n",
       "        -3.88678116e-01, -3.69163693e-01,  9.81230147e-01,\n",
       "        -7.30932031e-01],\n",
       "       [-1.20734962e-02, -1.23796487e+00, -8.55643520e-01,\n",
       "         6.71456120e-02, -4.30116263e-01,  6.95926112e-01,\n",
       "        -6.73786116e-01, -1.44149994e+00, -9.92760829e-01,\n",
       "         1.95499933e+00,  1.53175383e-01, -1.03220314e+00,\n",
       "        -7.30932031e-01],\n",
       "       [ 4.36776480e-01, -1.78767491e-01, -8.55643520e-01,\n",
       "        -1.72592594e+00, -4.30116263e-01,  1.42091287e+00,\n",
       "        -6.73786116e-01,  6.93721846e-01, -9.92760829e-01,\n",
       "         1.52702345e+00, -8.91502770e-01,  9.81230147e-01,\n",
       "        -7.30932031e-01],\n",
       "       [ 3.24563986e-01,  8.80429891e-01, -8.55643520e-01,\n",
       "        -2.17419383e+00, -4.30116263e-01,  1.42091287e+00,\n",
       "        -6.73786116e-01, -1.44149994e+00, -9.92760829e-01,\n",
       "        -1.28538949e+00,  3.27288409e-01, -1.03220314e+00,\n",
       "        -7.30932031e-01],\n",
       "       [-2.36498484e-01,  8.80429891e-01,  1.25672642e+00,\n",
       "         1.07574836e+00, -4.30116263e-01, -2.06808592e+00,\n",
       "         1.48415050e+00,  6.93721846e-01,  6.75922266e-01,\n",
       "         3.44994824e-01, -7.17389744e-01, -1.03220314e+00,\n",
       "         3.38394459e-01],\n",
       "       [-6.85348461e-01, -1.23796487e+00, -8.55643520e-01,\n",
       "         2.19641808e+00, -4.30116263e-01, -1.34309916e+00,\n",
       "         1.48415050e+00, -1.44149994e+00, -9.92760829e-01,\n",
       "         4.67273647e-01, -7.17389744e-01,  9.81230147e-01,\n",
       "         3.38394459e-01],\n",
       "       [-1.35862343e+00,  8.80429891e-01,  1.25672642e+00,\n",
       "        -2.69055304e-01,  2.32495277e+00, -1.64995669e-01,\n",
       "        -6.73786116e-01,  6.93721846e-01, -9.92760829e-01,\n",
       "        -2.66399293e-01, -8.04446257e-01, -1.03220314e+00,\n",
       "         2.47704744e+00],\n",
       "       [ 4.36776480e-01, -2.29716225e+00,  1.25672642e+00,\n",
       "        -1.61385897e+00, -4.30116263e-01,  1.23966618e+00,\n",
       "         1.48415050e+00,  6.93721846e-01, -9.92760829e-01,\n",
       "        -9.59312626e-01,  3.27288409e-01, -1.03220314e+00,\n",
       "        -7.30932031e-01],\n",
       "       [-3.48710979e-01,  8.80429891e-01,  1.25672642e+00,\n",
       "        -2.17419383e+00, -4.30116263e-01,  2.42809385e-01,\n",
       "         1.48415050e+00,  6.93721846e-01, -9.92760829e-01,\n",
       "         7.32211098e-01, -8.91502770e-01,  9.81230147e-01,\n",
       "        -7.30932031e-01],\n",
       "       [-1.47083592e+00,  8.80429891e-01, -8.55643520e-01,\n",
       "         1.41194928e+00, -4.30116263e-01, -3.91554032e-01,\n",
       "        -6.73786116e-01, -1.44149994e+00, -9.92760829e-01,\n",
       "        -4.70197332e-01, -6.30333232e-01, -1.03220314e+00,\n",
       "         1.40772095e+00],\n",
       "       [-6.85348461e-01,  8.80429891e-01, -8.55643520e-01,\n",
       "         1.07574836e+00, -4.30116263e-01, -2.47589098e+00,\n",
       "         1.48415050e+00,  6.93721846e-01,  2.34460536e+00,\n",
       "        -1.46184247e-03,  1.02374051e+00,  9.81230147e-01,\n",
       "         3.38394459e-01],\n",
       "       [-9.65879696e-01, -1.78767491e-01,  1.25672642e+00,\n",
       "         1.41194928e+00, -4.30116263e-01,  4.24056076e-01,\n",
       "        -6.73786116e-01, -1.44149994e+00,  6.75922266e-01,\n",
       "         6.47931580e+00,  5.01401434e-01,  9.81230147e-01,\n",
       "        -7.30932031e-01],\n",
       "       [ 3.80315130e+00,  8.80429891e-01,  1.25672642e+00,\n",
       "         1.79212584e-01,  2.32495277e+00, -7.99359086e-01,\n",
       "         1.48415050e+00, -1.44149994e+00,  2.34460536e+00,\n",
       "         8.54489921e-01,  2.59075774e+00,  9.81230147e-01,\n",
       "         1.40772095e+00],\n",
       "       [-1.80747340e+00,  8.80429891e-01, -8.55643520e-01,\n",
       "         4.03346528e-01, -4.30116263e-01, -1.29778749e+00,\n",
       "        -6.73786116e-01, -1.44149994e+00,  6.75922266e-01,\n",
       "         3.92977653e-02, -2.09376423e-02,  9.81230147e-01,\n",
       "        -7.30932031e-01],\n",
       "       [-1.13419844e+00,  8.80429891e-01, -8.55643520e-01,\n",
       "         1.86021717e+00, -4.30116263e-01, -1.16185247e+00,\n",
       "        -6.73786116e-01, -1.44149994e+00,  6.75922266e-01,\n",
       "        -1.97830282e+00,  5.01401434e-01, -1.03220314e+00,\n",
       "        -7.30932031e-01],\n",
       "       [-1.24285990e-01,  8.80429891e-01, -8.55643520e-01,\n",
       "        -1.56988332e-01, -4.30116263e-01, -3.46242360e-01,\n",
       "        -6.73786116e-01, -1.44149994e+00,  6.75922266e-01,\n",
       "         3.65374628e-01, -5.43276719e-01,  9.81230147e-01,\n",
       "        -7.30932031e-01],\n",
       "       [-6.85348461e-01, -1.23796487e+00,  1.25672642e+00,\n",
       "         8.51614417e-01, -4.30116263e-01, -2.15870927e+00,\n",
       "        -6.73786116e-01,  6.93721846e-01,  6.75922266e-01,\n",
       "         7.11831294e-01,  3.27288409e-01,  9.81230147e-01,\n",
       "         3.38394459e-01],\n",
       "       [-7.97560955e-01, -1.78767491e-01, -8.55643520e-01,\n",
       "        -6.05256221e-01, -4.30116263e-01, -1.11654080e+00,\n",
       "        -6.73786116e-01,  6.93721846e-01, -9.92760829e-01,\n",
       "        -1.97830282e+00, -1.95050668e-01,  9.81230147e-01,\n",
       "         2.47704744e+00],\n",
       "       [-1.24285990e-01, -1.23796487e+00, -8.55643520e-01,\n",
       "         2.91279556e-01, -4.30116263e-01,  1.05841949e+00,\n",
       "        -6.73786116e-01, -1.44149994e+00,  6.75922266e-01,\n",
       "        -2.05259881e-01, -8.91502770e-01,  9.81230147e-01,\n",
       "         3.38394459e-01],\n",
       "       [-6.85348461e-01, -1.23796487e+00, -8.55643520e-01,\n",
       "        -1.38972503e+00, -4.30116263e-01,  5.14679421e-01,\n",
       "        -6.73786116e-01,  6.93721846e-01, -9.92760829e-01,\n",
       "         9.97148548e-01, -8.91502770e-01, -1.03220314e+00,\n",
       "        -7.30932031e-01],\n",
       "       [ 4.36776480e-01,  8.80429891e-01,  1.25672642e+00,\n",
       "         9.63681389e-01, -4.30116263e-01, -3.00930687e-01,\n",
       "         1.48415050e+00,  6.93721846e-01, -9.92760829e-01,\n",
       "        -1.20387027e+00,  2.59075774e+00,  9.81230147e-01,\n",
       "         1.40772095e+00],\n",
       "       [-1.75136716e+00, -1.23796487e+00,  1.25672642e+00,\n",
       "        -9.41457137e-01,  2.32495277e+00,  2.42809385e-01,\n",
       "        -6.73786116e-01,  6.93721846e-01, -9.92760829e-01,\n",
       "        -1.00007223e+00, -8.91502770e-01, -1.03220314e+00,\n",
       "        -7.30932031e-01],\n",
       "       [-3.48710979e-01, -1.23796487e+00, -8.55643520e-01,\n",
       "        -1.50179200e+00, -4.30116263e-01,  5.59991094e-01,\n",
       "        -6.73786116e-01, -1.44149994e+00, -9.92760829e-01,\n",
       "         1.22132639e+00, -8.91502770e-01, -1.03220314e+00,\n",
       "        -7.30932031e-01],\n",
       "       [ 9.97838951e-01,  8.80429891e-01,  1.25672642e+00,\n",
       "         4.03346528e-01, -4.30116263e-01, -1.79621589e+00,\n",
       "         1.48415050e+00,  6.93721846e-01, -9.92760829e-01,\n",
       "         4.87653451e-01, -1.95050668e-01,  9.81230147e-01,\n",
       "        -7.30932031e-01],\n",
       "       [-2.36498484e-01,  8.80429891e-01,  1.25672642e+00,\n",
       "         6.71456120e-02, -4.30116263e-01, -9.35294104e-01,\n",
       "         1.48415050e+00, -1.44149994e+00,  6.75922266e-01,\n",
       "        -8.37033802e-01,  8.49627485e-01, -2.54864973e-02,\n",
       "         3.38394459e-01],\n",
       "       [ 1.55890142e+00,  8.80429891e-01, -8.55643520e-01,\n",
       "         1.41194928e+00, -4.30116263e-01, -1.93215090e+00,\n",
       "         1.48415050e+00,  6.93721846e-01,  6.75922266e-01,\n",
       "         8.13730313e-01,  4.14344921e-01,  9.81230147e-01,\n",
       "         2.47704744e+00],\n",
       "       [-4.60923473e-01,  8.80429891e-01,  1.25672642e+00,\n",
       "        -7.17323193e-01, -4.30116263e-01,  6.95926112e-01,\n",
       "        -6.73786116e-01,  6.93721846e-01,  6.75922266e-01,\n",
       "         5.69172667e-01, -4.56220206e-01,  9.81230147e-01,\n",
       "        -7.30932031e-01],\n",
       "       [ 4.36776480e-01,  8.80429891e-01,  1.25672642e+00,\n",
       "        -1.56988332e-01,  2.32495277e+00,  1.97497713e-01,\n",
       "         1.48415050e+00,  6.93721846e-01,  2.34460536e+00,\n",
       "        -8.77793410e-01,  1.80724913e+00,  9.81230147e-01,\n",
       "        -7.30932031e-01],\n",
       "       [ 5.48988974e-01,  8.80429891e-01,  1.25672642e+00,\n",
       "        -1.05352411e+00, -4.30116263e-01, -1.64995669e-01,\n",
       "         1.48415050e+00,  6.93721846e-01,  6.75922266e-01,\n",
       "         1.28246580e+00, -8.91502770e-01,  9.81230147e-01,\n",
       "         2.47704744e+00],\n",
       "       [-4.60923473e-01,  8.80429891e-01, -8.55643520e-01,\n",
       "         9.63681389e-01, -4.30116263e-01, -6.63424068e-01,\n",
       "         1.48415050e+00, -1.44149994e+00,  6.75922266e-01,\n",
       "        -1.00007223e+00, -8.91502770e-01, -1.03220314e+00,\n",
       "        -7.30932031e-01],\n",
       "       [ 9.97838951e-01, -1.78767491e-01, -8.55643520e-01,\n",
       "         7.39547445e-01,  2.32495277e+00, -6.18112396e-01,\n",
       "         1.48415050e+00,  6.93721846e-01,  6.75922266e-01,\n",
       "        -6.26012542e-02, -2.09376423e-02, -1.03220314e+00,\n",
       "        -7.30932031e-01],\n",
       "       [-6.85348461e-01, -1.78767491e-01, -8.55643520e-01,\n",
       "         4.03346528e-01, -4.30116263e-01,  9.67796148e-01,\n",
       "        -6.73786116e-01, -1.44149994e+00, -9.92760829e-01,\n",
       "         1.91423972e+00, -8.91502770e-01, -1.03220314e+00,\n",
       "        -7.30932031e-01],\n",
       "       [-1.24285990e-01, -1.78767491e-01,  1.25672642e+00,\n",
       "         8.51614417e-01, -4.30116263e-01, -2.43057930e+00,\n",
       "        -6.73786116e-01, -1.44149994e+00,  6.75922266e-01,\n",
       "         3.44994824e-01,  1.53175383e-01, -1.03220314e+00,\n",
       "         3.38394459e-01],\n",
       "       [ 4.36776480e-01,  8.80429891e-01,  1.25672642e+00,\n",
       "         6.71456120e-02, -4.30116263e-01, -1.79621589e+00,\n",
       "         1.48415050e+00,  6.93721846e-01,  2.34460536e+00,\n",
       "        -5.92476155e-01,  3.98366194e+00, -1.03220314e+00,\n",
       "        -7.30932031e-01],\n",
       "       [-4.04817226e-01,  8.80429891e-01,  1.25672642e+00,\n",
       "         4.03346528e-01, -4.30116263e-01,  9.22484475e-01,\n",
       "        -6.73786116e-01,  6.93721846e-01, -9.92760829e-01,\n",
       "         1.09904757e+00, -8.91502770e-01,  9.81230147e-01,\n",
       "         1.40772095e+00],\n",
       "       [ 7.17307716e-01, -2.29716225e+00,  2.00541450e-01,\n",
       "         9.63681389e-01,  2.32495277e+00, -2.90606508e-02,\n",
       "        -6.73786116e-01,  6.93721846e-01,  2.34460536e+00,\n",
       "        -2.66399293e-01,  1.11079702e+00,  9.81230147e-01,\n",
       "        -7.30932031e-01],\n",
       "       [-6.85348461e-01,  8.80429891e-01,  1.25672642e+00,\n",
       "         1.41194928e+00, -4.30116263e-01, -9.80605777e-01,\n",
       "         1.48415050e+00,  6.93721846e-01,  6.75922266e-01,\n",
       "        -3.47918509e-01,  1.37196656e+00,  9.81230147e-01,\n",
       "         1.40772095e+00],\n",
       "       [-1.24285990e-01, -1.78767491e-01, -8.55643520e-01,\n",
       "        -1.27765805e+00, -4.30116263e-01,  5.14679421e-01,\n",
       "        -6.73786116e-01,  6.93721846e-01, -9.92760829e-01,\n",
       "         1.40474463e+00,  7.62570973e-01, -1.03220314e+00,\n",
       "         3.38394459e-01],\n",
       "       [-1.20734962e-02,  8.80429891e-01,  2.00541450e-01,\n",
       "         1.79212584e-01, -4.30116263e-01, -2.06808592e+00,\n",
       "         1.48415050e+00,  6.93721846e-01,  6.75922266e-01,\n",
       "        -1.26500968e+00,  9.36683998e-01,  9.81230147e-01,\n",
       "         3.38394459e-01],\n",
       "       [-1.24641093e+00, -1.23796487e+00, -8.55643520e-01,\n",
       "        -1.50179200e+00, -4.30116263e-01,  1.06874367e-01,\n",
       "        -6.73786116e-01,  6.93721846e-01, -9.92760829e-01,\n",
       "        -2.25639685e-01, -8.91502770e-01, -1.03220314e+00,\n",
       "        -7.30932031e-01]])"
      ]
     },
     "execution_count": 14,
     "metadata": {},
     "output_type": "execute_result"
    }
   ],
   "source": [
    "X_train = heart_sc.transform(X_train)\n",
    "X_test = heart_sc.transform(X_test)\n",
    "X_train\n",
    "X_test"
   ]
  },
  {
   "cell_type": "markdown",
   "id": "ed28b836",
   "metadata": {},
   "source": [
    "# Build Models | Cross validation | Confusion metrics | accuracy_score | "
   ]
  },
  {
   "cell_type": "code",
   "execution_count": null,
   "id": "d798d691",
   "metadata": {},
   "outputs": [],
   "source": []
  },
  {
   "cell_type": "code",
   "execution_count": 15,
   "id": "0f089c1a",
   "metadata": {},
   "outputs": [
    {
     "name": "stdout",
     "output_type": "stream",
     "text": [
      "cv 0.8015070921985815\n",
      "accuracy_score:  0.7\n"
     ]
    },
    {
     "data": {
      "image/png": "[encoded data removed]",
      "text/plain": [
       "<Figure size 640x480 with 2 Axes>"
      ]
     },
     "metadata": {},
     "output_type": "display_data"
    }
   ],
   "source": [
    "# Boosting calssifier\n",
    "from sklearn.ensemble import HistGradientBoostingClassifier\n",
    "from sklearn.model_selection import cross_val_score\n",
    "from sklearn.metrics import confusion_matrix,accuracy_score,classification_report\n",
    "\n",
    "#training and fitting model\n",
    "hgbc = HistGradientBoostingClassifier(max_iter=100).fit(X_train, y_train)\n",
    "#crossvalidation\n",
    "cv = cross_val_score(hgbc, X_train,y_train, cv=5)\n",
    "#pridiction\n",
    "y_pred = hgbc.predict(X_test)\n",
    "#classification report\n",
    "classification_report(y_test,y_pred)\n",
    "#accoracy score\n",
    "acs = accuracy_score(y_test,y_pred)\n",
    "#confusion matrics\n",
    "cm = confusion_matrix(y_test,y_pred)\n",
    "#show confusion_matrix using heatmap\n",
    "sns.heatmap(cm,annot=True)\n",
    "\n",
    "print('cv',cv.mean())\n",
    "print('accuracy_score: ',acs)\n"
   ]
  },
  {
   "cell_type": "code",
   "execution_count": 16,
   "id": "6343d419",
   "metadata": {},
   "outputs": [
    {
     "name": "stdout",
     "output_type": "stream",
     "text": [
      "cv 0.8184397163120567\n",
      "cr               precision    recall  f1-score   support\n",
      "\n",
      "           0       0.80      0.67      0.73        36\n",
      "           1       0.60      0.75      0.67        24\n",
      "\n",
      "    accuracy                           0.70        60\n",
      "   macro avg       0.70      0.71      0.70        60\n",
      "weighted avg       0.72      0.70      0.70        60\n",
      "\n",
      "accuracy_score:  0.7\n"
     ]
    },
    {
     "data": {
      "image/png": "[encoded data removed]",
      "text/plain": [
       "<Figure size 640x480 with 2 Axes>"
      ]
     },
     "metadata": {},
     "output_type": "display_data"
    }
   ],
   "source": [
    "#Rnadomforest classifer\n",
    "from sklearn.ensemble import RandomForestClassifier\n",
    "from sklearn.model_selection import cross_val_score\n",
    "#train modeling and fiting\n",
    "rfc = RandomForestClassifier(n_estimators=100)\n",
    "rfc = rfc.fit(X_train, y_train)\n",
    "#cross validation\n",
    "cv = cross_val_score(rfc, X_train,y_train, cv=5)\n",
    "#pridiction\n",
    "y_pred_rfc = rfc.predict(X_test)\n",
    "#classification report\n",
    "cr = classification_report(y_test,y_pred)\n",
    "#accoracy score\n",
    "acs = accuracy_score(y_test,y_pred)\n",
    "\n",
    "#confusion matrics\n",
    "cm = confusion_matrix(y_test,y_pred_rfc)\n",
    "#show confusion_matrix using heatmap\n",
    "sns.heatmap(cm,annot=True)\n",
    "\n",
    "print('cv',cv.mean())\n",
    "print('cr',cr)\n",
    "print('accuracy_score: ',acs)"
   ]
  },
  {
   "cell_type": "code",
   "execution_count": 17,
   "id": "093eea1b",
   "metadata": {},
   "outputs": [
    {
     "name": "stdout",
     "output_type": "stream",
     "text": [
      "cv 0.8267730496453902\n",
      "cr               precision    recall  f1-score   support\n",
      "\n",
      "           0       0.80      0.67      0.73        36\n",
      "           1       0.60      0.75      0.67        24\n",
      "\n",
      "    accuracy                           0.70        60\n",
      "   macro avg       0.70      0.71      0.70        60\n",
      "weighted avg       0.72      0.70      0.70        60\n",
      "\n",
      "accuracy_score:  0.7\n"
     ]
    },
    {
     "data": {
      "image/png": "[encoded data removed]",
      "text/plain": [
       "<Figure size 640x480 with 2 Axes>"
      ]
     },
     "metadata": {},
     "output_type": "display_data"
    }
   ],
   "source": [
    "#support vecter mathine classifier\n",
    "from sklearn import svm\n",
    "from sklearn.model_selection import cross_val_score\n",
    "\n",
    "svc = svm.SVC()\n",
    "svc = svc.fit(X_train, y_train)\n",
    "cv = cross_val_score(svc, X_train,y_train, cv=5)\n",
    "#pridiction\n",
    "y_pred_svc = svc.predict(X_test)\n",
    "#classification report\n",
    "cr = classification_report(y_test,y_pred)\n",
    "#accoracy score\n",
    "acs = accuracy_score(y_test,y_pred)\n",
    "#confusion matrics\n",
    "cm = confusion_matrix(y_test,y_pred_svc)\n",
    "#show confusion_matrix using heatmap\n",
    "sns.heatmap(cm,annot=True)\n",
    "\n",
    "print('cv',cv.mean())\n",
    "print('cr',cr)\n",
    "print('accuracy_score: ',acs)\n"
   ]
  },
  {
   "cell_type": "code",
   "execution_count": 18,
   "id": "74addc7d",
   "metadata": {},
   "outputs": [
    {
     "name": "stderr",
     "output_type": "stream",
     "text": [
      "C:\\ProgramData\\anaconda3\\Lib\\site-packages\\sklearn\\linear_model\\_stochastic_gradient.py:713: ConvergenceWarning: Maximum number of iteration reached before convergence. Consider increasing max_iter to improve the fit.\n",
      "  warnings.warn(\n",
      "C:\\ProgramData\\anaconda3\\Lib\\site-packages\\sklearn\\linear_model\\_stochastic_gradient.py:713: ConvergenceWarning: Maximum number of iteration reached before convergence. Consider increasing max_iter to improve the fit.\n",
      "  warnings.warn(\n",
      "C:\\ProgramData\\anaconda3\\Lib\\site-packages\\sklearn\\linear_model\\_stochastic_gradient.py:713: ConvergenceWarning: Maximum number of iteration reached before convergence. Consider increasing max_iter to improve the fit.\n",
      "  warnings.warn(\n",
      "C:\\ProgramData\\anaconda3\\Lib\\site-packages\\sklearn\\linear_model\\_stochastic_gradient.py:713: ConvergenceWarning: Maximum number of iteration reached before convergence. Consider increasing max_iter to improve the fit.\n",
      "  warnings.warn(\n",
      "C:\\ProgramData\\anaconda3\\Lib\\site-packages\\sklearn\\linear_model\\_stochastic_gradient.py:713: ConvergenceWarning: Maximum number of iteration reached before convergence. Consider increasing max_iter to improve the fit.\n",
      "  warnings.warn(\n",
      "C:\\ProgramData\\anaconda3\\Lib\\site-packages\\sklearn\\linear_model\\_stochastic_gradient.py:713: ConvergenceWarning: Maximum number of iteration reached before convergence. Consider increasing max_iter to improve the fit.\n",
      "  warnings.warn(\n",
      "C:\\ProgramData\\anaconda3\\Lib\\site-packages\\sklearn\\linear_model\\_stochastic_gradient.py:713: ConvergenceWarning: Maximum number of iteration reached before convergence. Consider increasing max_iter to improve the fit.\n",
      "  warnings.warn(\n",
      "C:\\ProgramData\\anaconda3\\Lib\\site-packages\\sklearn\\linear_model\\_stochastic_gradient.py:713: ConvergenceWarning: Maximum number of iteration reached before convergence. Consider increasing max_iter to improve the fit.\n",
      "  warnings.warn(\n",
      "C:\\ProgramData\\anaconda3\\Lib\\site-packages\\sklearn\\linear_model\\_stochastic_gradient.py:713: ConvergenceWarning: Maximum number of iteration reached before convergence. Consider increasing max_iter to improve the fit.\n",
      "  warnings.warn(\n",
      "C:\\ProgramData\\anaconda3\\Lib\\site-packages\\sklearn\\linear_model\\_stochastic_gradient.py:713: ConvergenceWarning: Maximum number of iteration reached before convergence. Consider increasing max_iter to improve the fit.\n",
      "  warnings.warn(\n",
      "C:\\ProgramData\\anaconda3\\Lib\\site-packages\\sklearn\\linear_model\\_stochastic_gradient.py:713: ConvergenceWarning: Maximum number of iteration reached before convergence. Consider increasing max_iter to improve the fit.\n",
      "  warnings.warn(\n"
     ]
    },
    {
     "data": {
      "text/plain": [
       "0.7768115942028986"
      ]
     },
     "execution_count": 18,
     "metadata": {},
     "output_type": "execute_result"
    },
    {
     "data": {
      "image/png": "[encoded data removed]",
      "text/plain": [
       "<Figure size 640x480 with 2 Axes>"
      ]
     },
     "metadata": {},
     "output_type": "display_data"
    }
   ],
   "source": [
    "#SGDClassifier\n",
    "from sklearn.linear_model import SGDClassifier\n",
    "from sklearn.model_selection import cross_val_score\n",
    "\n",
    "sgdc = SGDClassifier(loss=\"hinge\", penalty=\"l2\", max_iter=10)\n",
    "sgdc = sgdc.fit(X_train, y_train)\n",
    "scores = cross_val_score(sgdc, X_train,y_train, cv=10)\n",
    "#pridiction\n",
    "y_pred_sgdc = sgdc.predict(X_test)\n",
    "#confusion matrics\n",
    "cm = confusion_matrix(y_test,y_pred_sgdc)\n",
    "#show confusion_matrix using heatmap\n",
    "sns.heatmap(cm,annot=True)\n",
    "scores.mean()\n"
   ]
  },
  {
   "cell_type": "code",
   "execution_count": 19,
   "id": "764bda5e",
   "metadata": {},
   "outputs": [
    {
     "data": {
      "text/plain": [
       "0.738031914893617"
      ]
     },
     "execution_count": 19,
     "metadata": {},
     "output_type": "execute_result"
    },
    {
     "data": {
      "image/png": "[encoded data removed]",
      "text/plain": [
       "<Figure size 640x480 with 2 Axes>"
      ]
     },
     "metadata": {},
     "output_type": "display_data"
    }
   ],
   "source": [
    "from sklearn import tree\n",
    "from sklearn.model_selection import cross_val_score\n",
    "\n",
    "tre = tree.DecisionTreeClassifier()\n",
    "tre = tre.fit(X_train, y_train)\n",
    "scores = cross_val_score(tre, X_train,y_train, cv=5)\n",
    "#pridiction\n",
    "y_pred_tre = tre.predict(X_test)\n",
    "#confusion matrics\n",
    "cm = confusion_matrix(y_test,y_pred_tre)\n",
    "#show confusion_matrix using heatmap\n",
    "sns.heatmap(cm,annot=True)\n",
    "scores.mean()\n",
    "\n"
   ]
  },
  {
   "cell_type": "code",
   "execution_count": 20,
   "id": "7d708b67",
   "metadata": {},
   "outputs": [
    {
     "data": {
      "text/plain": [
       "0.8185283687943263"
      ]
     },
     "execution_count": 20,
     "metadata": {},
     "output_type": "execute_result"
    },
    {
     "data": {
      "image/png": "[encoded data removed]",
      "text/plain": [
       "<Figure size 640x480 with 2 Axes>"
      ]
     },
     "metadata": {},
     "output_type": "display_data"
    }
   ],
   "source": [
    "from sklearn.ensemble import BaggingClassifier\n",
    "from sklearn.neighbors import KNeighborsClassifier\n",
    "from sklearn.model_selection import cross_val_score\n",
    "\n",
    "bagging = BaggingClassifier(KNeighborsClassifier(),\n",
    "                            max_samples=0.5, max_features=0.5)\n",
    "bagging = bagging.fit(X_train, y_train)\n",
    "scores = cross_val_score(bagging, X_train,y_train, cv=5)\n",
    "#pridiction\n",
    "y_pred_bagging = tre.predict(X_test)\n",
    "#confusion matrics\n",
    "cm = confusion_matrix(y_test,y_pred_bagging)\n",
    "#show confusion_matrix using heatmap\n",
    "sns.heatmap(cm,annot=True)\n",
    "scores.mean()\n"
   ]
  },
  {
   "cell_type": "code",
   "execution_count": 21,
   "id": "eddaa4c4",
   "metadata": {},
   "outputs": [],
   "source": [
    "from sklearn.linear_model import LogisticRegression"
   ]
  },
  {
   "cell_type": "code",
   "execution_count": 22,
   "id": "300dcd2a",
   "metadata": {},
   "outputs": [
    {
     "name": "stdout",
     "output_type": "stream",
     "text": [
      "cv 0.826950354609929\n",
      "cr               precision    recall  f1-score   support\n",
      "\n",
      "           0       0.80      0.67      0.73        36\n",
      "           1       0.60      0.75      0.67        24\n",
      "\n",
      "    accuracy                           0.70        60\n",
      "   macro avg       0.70      0.71      0.70        60\n",
      "weighted avg       0.72      0.70      0.70        60\n",
      "\n",
      "accuracy_score:  0.7\n"
     ]
    },
    {
     "data": {
      "image/png": "[encoded data removed]",
      "text/plain": [
       "<Figure size 640x480 with 2 Axes>"
      ]
     },
     "metadata": {},
     "output_type": "display_data"
    }
   ],
   "source": [
    "lr = LogisticRegression()\n",
    "lr = lr.fit(X_train, y_train)\n",
    "cvs = cross_val_score(lr, X_train,y_train, cv=5)\n",
    "#pridiction\n",
    "y_pred_tre = lr.predict(X_test)\n",
    "#classification report\n",
    "cr = classification_report(y_test,y_pred)\n",
    "#accoracy score\n",
    "acs = accuracy_score(y_test,y_pred)\n",
    "#confusion matrics\n",
    "cm = confusion_matrix(y_test,y_pred_tre)\n",
    "#show confusion_matrix using heatmap\n",
    "sns.heatmap(cm,annot=True)\n",
    "print('cv',cvs.mean())\n",
    "print('cr',cr)\n",
    "print('accuracy_score: ',acs)\n",
    "\n"
   ]
  },
  {
   "cell_type": "markdown",
   "id": "cf075d99",
   "metadata": {},
   "source": [
    "# Hyperparameter Tunning "
   ]
  },
  {
   "cell_type": "markdown",
   "id": "67a4a959",
   "metadata": {},
   "source": [
    "##### Logistic Regression  | Random Forest classification  | svc"
   ]
  },
  {
   "cell_type": "markdown",
   "id": "796cf78a",
   "metadata": {},
   "source": [
    "## Hyperparameter Tunning Using GridSearch Technique"
   ]
  },
  {
   "cell_type": "code",
   "execution_count": 23,
   "id": "bb1213c7",
   "metadata": {},
   "outputs": [],
   "source": [
    "#Random Forest\n",
    "from sklearn.model_selection import RandomizedSearchCV"
   ]
  },
  {
   "cell_type": "code",
   "execution_count": 24,
   "id": "b6ac8499",
   "metadata": {},
   "outputs": [],
   "source": [
    "param_grid = {\n",
    "    'n_estimators':[100,200,300],\n",
    "    'max_features':['auto','sqrt','log2'],\n",
    "    'max_depth':[5,10,15],\n",
    "    'min_samples_split':[2,5,10],\n",
    "    'min_samples_leaf':[1,5,10],\n",
    "    'bootstrap':[True,False],\n",
    "    'class_weight':['balanced','balanced_subsample']\n",
    "}"
   ]
  },
  {
   "cell_type": "code",
   "execution_count": 25,
   "id": "9fd8fa27",
   "metadata": {},
   "outputs": [],
   "source": [
    "random_search = RandomizedSearchCV(rfc, param_grid, cv=5, n_iter=10)"
   ]
  },
  {
   "cell_type": "code",
   "execution_count": 26,
   "id": "c052ee5c",
   "metadata": {},
   "outputs": [
    {
     "name": "stderr",
     "output_type": "stream",
     "text": [
      "C:\\ProgramData\\anaconda3\\Lib\\site-packages\\sklearn\\model_selection\\_validation.py:425: FitFailedWarning: \n",
      "20 fits failed out of a total of 50.\n",
      "The score on these train-test partitions for these parameters will be set to nan.\n",
      "If these failures are not expected, you can try to debug them by setting error_score='raise'.\n",
      "\n",
      "Below are more details about the failures:\n",
      "--------------------------------------------------------------------------------\n",
      "20 fits failed with the following error:\n",
      "Traceback (most recent call last):\n",
      "  File \"C:\\ProgramData\\anaconda3\\Lib\\site-packages\\sklearn\\model_selection\\_validation.py\", line 732, in _fit_and_score\n",
      "    estimator.fit(X_train, y_train, **fit_params)\n",
      "  File \"C:\\ProgramData\\anaconda3\\Lib\\site-packages\\sklearn\\base.py\", line 1144, in wrapper\n",
      "    estimator._validate_params()\n",
      "  File \"C:\\ProgramData\\anaconda3\\Lib\\site-packages\\sklearn\\base.py\", line 637, in _validate_params\n",
      "    validate_parameter_constraints(\n",
      "  File \"C:\\ProgramData\\anaconda3\\Lib\\site-packages\\sklearn\\utils\\_param_validation.py\", line 95, in validate_parameter_constraints\n",
      "    raise InvalidParameterError(\n",
      "sklearn.utils._param_validation.InvalidParameterError: The 'max_features' parameter of RandomForestClassifier must be an int in the range [1, inf), a float in the range (0.0, 1.0], a str among {'sqrt', 'log2'} or None. Got 'auto' instead.\n",
      "\n",
      "  warnings.warn(some_fits_failed_message, FitFailedWarning)\n",
      "C:\\ProgramData\\anaconda3\\Lib\\site-packages\\sklearn\\model_selection\\_search.py:976: UserWarning: One or more of the test scores are non-finite: [       nan        nan 0.83111702 0.81001773        nan 0.83120567\n",
      "        nan 0.83120567 0.83945035 0.83537234]\n",
      "  warnings.warn(\n"
     ]
    },
    {
     "data": {
      "text/html": [
       "<style>#sk-container-id-2 {color: black;}#sk-container-id-2 pre{padding: 0;}#sk-container-id-2 div.sk-toggleable {background-color: white;}#sk-container-id-2 label.sk-toggleable__label {cursor: pointer;display: block;width: 100%;margin-bottom: 0;padding: 0.3em;box-sizing: border-box;text-align: center;}#sk-container-id-2 label.sk-toggleable__label-arrow:before {content: \"▸\";float: left;margin-right: 0.25em;color: #696969;}#sk-container-id-2 label.sk-toggleable__label-arrow:hover:before {color: black;}#sk-container-id-2 div.sk-estimator:hover label.sk-toggleable__label-arrow:before {color: black;}#sk-container-id-2 div.sk-toggleable__content {max-height: 0;max-width: 0;overflow: hidden;text-align: left;background-color: #f0f8ff;}#sk-container-id-2 div.sk-toggleable__content pre {margin: 0.2em;color: black;border-radius: 0.25em;background-color: #f0f8ff;}#sk-container-id-2 input.sk-toggleable__control:checked~div.sk-toggleable__content {max-height: 200px;max-width: 100%;overflow: auto;}#sk-container-id-2 input.sk-toggleable__control:checked~label.sk-toggleable__label-arrow:before {content: \"▾\";}#sk-container-id-2 div.sk-estimator input.sk-toggleable__control:checked~label.sk-toggleable__label {background-color: #d4ebff;}#sk-container-id-2 div.sk-label input.sk-toggleable__control:checked~label.sk-toggleable__label {background-color: #d4ebff;}#sk-container-id-2 input.sk-hidden--visually {border: 0;clip: rect(1px 1px 1px 1px);clip: rect(1px, 1px, 1px, 1px);height: 1px;margin: -1px;overflow: hidden;padding: 0;position: absolute;width: 1px;}#sk-container-id-2 div.sk-estimator {font-family: monospace;background-color: #f0f8ff;border: 1px dotted black;border-radius: 0.25em;box-sizing: border-box;margin-bottom: 0.5em;}#sk-container-id-2 div.sk-estimator:hover {background-color: #d4ebff;}#sk-container-id-2 div.sk-parallel-item::after {content: \"\";width: 100%;border-bottom: 1px solid gray;flex-grow: 1;}#sk-container-id-2 div.sk-label:hover label.sk-toggleable__label {background-color: #d4ebff;}#sk-container-id-2 div.sk-serial::before {content: \"\";position: absolute;border-left: 1px solid gray;box-sizing: border-box;top: 0;bottom: 0;left: 50%;z-index: 0;}#sk-container-id-2 div.sk-serial {display: flex;flex-direction: column;align-items: center;background-color: white;padding-right: 0.2em;padding-left: 0.2em;position: relative;}#sk-container-id-2 div.sk-item {position: relative;z-index: 1;}#sk-container-id-2 div.sk-parallel {display: flex;align-items: stretch;justify-content: center;background-color: white;position: relative;}#sk-container-id-2 div.sk-item::before, #sk-container-id-2 div.sk-parallel-item::before {content: \"\";position: absolute;border-left: 1px solid gray;box-sizing: border-box;top: 0;bottom: 0;left: 50%;z-index: -1;}#sk-container-id-2 div.sk-parallel-item {display: flex;flex-direction: column;z-index: 1;position: relative;background-color: white;}#sk-container-id-2 div.sk-parallel-item:first-child::after {align-self: flex-end;width: 50%;}#sk-container-id-2 div.sk-parallel-item:last-child::after {align-self: flex-start;width: 50%;}#sk-container-id-2 div.sk-parallel-item:only-child::after {width: 0;}#sk-container-id-2 div.sk-dashed-wrapped {border: 1px dashed gray;margin: 0 0.4em 0.5em 0.4em;box-sizing: border-box;padding-bottom: 0.4em;background-color: white;}#sk-container-id-2 div.sk-label label {font-family: monospace;font-weight: bold;display: inline-block;line-height: 1.2em;}#sk-container-id-2 div.sk-label-container {text-align: center;}#sk-container-id-2 div.sk-container {/* jupyter's `normalize.less` sets `[hidden] { display: none; }` but bootstrap.min.css set `[hidden] { display: none !important; }` so we also need the `!important` here to be able to override the default hidden behavior on the sphinx rendered scikit-learn.org. See: https://github.com/scikit-learn/scikit-learn/issues/21755 */display: inline-block !important;position: relative;}#sk-container-id-2 div.sk-text-repr-fallback {display: none;}</style><div id=\"sk-container-id-2\" class=\"sk-top-container\"><div class=\"sk-text-repr-fallback\"><pre>RandomizedSearchCV(cv=5, estimator=RandomForestClassifier(),\n",
       "                   param_distributions={&#x27;bootstrap&#x27;: [True, False],\n",
       "                                        &#x27;class_weight&#x27;: [&#x27;balanced&#x27;,\n",
       "                                                         &#x27;balanced_subsample&#x27;],\n",
       "                                        &#x27;max_depth&#x27;: [5, 10, 15],\n",
       "                                        &#x27;max_features&#x27;: [&#x27;auto&#x27;, &#x27;sqrt&#x27;,\n",
       "                                                         &#x27;log2&#x27;],\n",
       "                                        &#x27;min_samples_leaf&#x27;: [1, 5, 10],\n",
       "                                        &#x27;min_samples_split&#x27;: [2, 5, 10],\n",
       "                                        &#x27;n_estimators&#x27;: [100, 200, 300]})</pre><b>In a Jupyter environment, please rerun this cell to show the HTML representation or trust the notebook. <br />On GitHub, the HTML representation is unable to render, please try loading this page with nbviewer.org.</b></div><div class=\"sk-container\" hidden><div class=\"sk-item sk-dashed-wrapped\"><div class=\"sk-label-container\"><div class=\"sk-label sk-toggleable\"><input class=\"sk-toggleable__control sk-hidden--visually\" id=\"sk-estimator-id-2\" type=\"checkbox\" ><label for=\"sk-estimator-id-2\" class=\"sk-toggleable__label sk-toggleable__label-arrow\">RandomizedSearchCV</label><div class=\"sk-toggleable__content\"><pre>RandomizedSearchCV(cv=5, estimator=RandomForestClassifier(),\n",
       "                   param_distributions={&#x27;bootstrap&#x27;: [True, False],\n",
       "                                        &#x27;class_weight&#x27;: [&#x27;balanced&#x27;,\n",
       "                                                         &#x27;balanced_subsample&#x27;],\n",
       "                                        &#x27;max_depth&#x27;: [5, 10, 15],\n",
       "                                        &#x27;max_features&#x27;: [&#x27;auto&#x27;, &#x27;sqrt&#x27;,\n",
       "                                                         &#x27;log2&#x27;],\n",
       "                                        &#x27;min_samples_leaf&#x27;: [1, 5, 10],\n",
       "                                        &#x27;min_samples_split&#x27;: [2, 5, 10],\n",
       "                                        &#x27;n_estimators&#x27;: [100, 200, 300]})</pre></div></div></div><div class=\"sk-parallel\"><div class=\"sk-parallel-item\"><div class=\"sk-item\"><div class=\"sk-label-container\"><div class=\"sk-label sk-toggleable\"><input class=\"sk-toggleable__control sk-hidden--visually\" id=\"sk-estimator-id-3\" type=\"checkbox\" ><label for=\"sk-estimator-id-3\" class=\"sk-toggleable__label sk-toggleable__label-arrow\">estimator: RandomForestClassifier</label><div class=\"sk-toggleable__content\"><pre>RandomForestClassifier()</pre></div></div></div><div class=\"sk-serial\"><div class=\"sk-item\"><div class=\"sk-estimator sk-toggleable\"><input class=\"sk-toggleable__control sk-hidden--visually\" id=\"sk-estimator-id-4\" type=\"checkbox\" ><label for=\"sk-estimator-id-4\" class=\"sk-toggleable__label sk-toggleable__label-arrow\">RandomForestClassifier</label><div class=\"sk-toggleable__content\"><pre>RandomForestClassifier()</pre></div></div></div></div></div></div></div></div></div></div>"
      ],
      "text/plain": [
       "RandomizedSearchCV(cv=5, estimator=RandomForestClassifier(),\n",
       "                   param_distributions={'bootstrap': [True, False],\n",
       "                                        'class_weight': ['balanced',\n",
       "                                                         'balanced_subsample'],\n",
       "                                        'max_depth': [5, 10, 15],\n",
       "                                        'max_features': ['auto', 'sqrt',\n",
       "                                                         'log2'],\n",
       "                                        'min_samples_leaf': [1, 5, 10],\n",
       "                                        'min_samples_split': [2, 5, 10],\n",
       "                                        'n_estimators': [100, 200, 300]})"
      ]
     },
     "execution_count": 26,
     "metadata": {},
     "output_type": "execute_result"
    }
   ],
   "source": [
    "random_search.fit(X_train, y_train)"
   ]
  },
  {
   "cell_type": "code",
   "execution_count": 27,
   "id": "865c93fe",
   "metadata": {},
   "outputs": [
    {
     "name": "stdout",
     "output_type": "stream",
     "text": [
      "{'n_estimators': 100, 'min_samples_split': 10, 'min_samples_leaf': 1, 'max_features': 'sqrt', 'max_depth': 5, 'class_weight': 'balanced_subsample', 'bootstrap': True}\n"
     ]
    }
   ],
   "source": [
    "print(random_search.best_params_)"
   ]
  },
  {
   "cell_type": "code",
   "execution_count": 28,
   "id": "fe3b5574",
   "metadata": {},
   "outputs": [
    {
     "name": "stdout",
     "output_type": "stream",
     "text": [
      "0.839450354609929\n"
     ]
    }
   ],
   "source": [
    "print(random_search.best_score_)"
   ]
  },
  {
   "cell_type": "markdown",
   "id": "1108cd3d",
   "metadata": {},
   "source": [
    "## hyper parameter of logistic regresion using GridSearchCV"
   ]
  },
  {
   "cell_type": "code",
   "execution_count": 29,
   "id": "bf26cf83",
   "metadata": {},
   "outputs": [],
   "source": [
    "from sklearn.model_selection import GridSearchCV"
   ]
  },
  {
   "cell_type": "code",
   "execution_count": 30,
   "id": "2b645cc8",
   "metadata": {},
   "outputs": [],
   "source": [
    "#logistic regresion\n",
    "hyperparameters = {\n",
    "    'penalty': ['l1', 'l2'],\n",
    "    'C': [0.001, 0.01, 0.1, 1.0],\n",
    "    'solver': ['liblinear', 'saga']\n",
    "}"
   ]
  },
  {
   "cell_type": "code",
   "execution_count": 31,
   "id": "53c84df1",
   "metadata": {},
   "outputs": [],
   "source": [
    "grid_search = GridSearchCV(lr, hyperparameters, cv=5, scoring='accuracy')"
   ]
  },
  {
   "cell_type": "code",
   "execution_count": 32,
   "id": "d6a76ab5",
   "metadata": {},
   "outputs": [
    {
     "data": {
      "text/html": [
       "<style>#sk-container-id-3 {color: black;}#sk-container-id-3 pre{padding: 0;}#sk-container-id-3 div.sk-toggleable {background-color: white;}#sk-container-id-3 label.sk-toggleable__label {cursor: pointer;display: block;width: 100%;margin-bottom: 0;padding: 0.3em;box-sizing: border-box;text-align: center;}#sk-container-id-3 label.sk-toggleable__label-arrow:before {content: \"▸\";float: left;margin-right: 0.25em;color: #696969;}#sk-container-id-3 label.sk-toggleable__label-arrow:hover:before {color: black;}#sk-container-id-3 div.sk-estimator:hover label.sk-toggleable__label-arrow:before {color: black;}#sk-container-id-3 div.sk-toggleable__content {max-height: 0;max-width: 0;overflow: hidden;text-align: left;background-color: #f0f8ff;}#sk-container-id-3 div.sk-toggleable__content pre {margin: 0.2em;color: black;border-radius: 0.25em;background-color: #f0f8ff;}#sk-container-id-3 input.sk-toggleable__control:checked~div.sk-toggleable__content {max-height: 200px;max-width: 100%;overflow: auto;}#sk-container-id-3 input.sk-toggleable__control:checked~label.sk-toggleable__label-arrow:before {content: \"▾\";}#sk-container-id-3 div.sk-estimator input.sk-toggleable__control:checked~label.sk-toggleable__label {background-color: #d4ebff;}#sk-container-id-3 div.sk-label input.sk-toggleable__control:checked~label.sk-toggleable__label {background-color: #d4ebff;}#sk-container-id-3 input.sk-hidden--visually {border: 0;clip: rect(1px 1px 1px 1px);clip: rect(1px, 1px, 1px, 1px);height: 1px;margin: -1px;overflow: hidden;padding: 0;position: absolute;width: 1px;}#sk-container-id-3 div.sk-estimator {font-family: monospace;background-color: #f0f8ff;border: 1px dotted black;border-radius: 0.25em;box-sizing: border-box;margin-bottom: 0.5em;}#sk-container-id-3 div.sk-estimator:hover {background-color: #d4ebff;}#sk-container-id-3 div.sk-parallel-item::after {content: \"\";width: 100%;border-bottom: 1px solid gray;flex-grow: 1;}#sk-container-id-3 div.sk-label:hover label.sk-toggleable__label {background-color: #d4ebff;}#sk-container-id-3 div.sk-serial::before {content: \"\";position: absolute;border-left: 1px solid gray;box-sizing: border-box;top: 0;bottom: 0;left: 50%;z-index: 0;}#sk-container-id-3 div.sk-serial {display: flex;flex-direction: column;align-items: center;background-color: white;padding-right: 0.2em;padding-left: 0.2em;position: relative;}#sk-container-id-3 div.sk-item {position: relative;z-index: 1;}#sk-container-id-3 div.sk-parallel {display: flex;align-items: stretch;justify-content: center;background-color: white;position: relative;}#sk-container-id-3 div.sk-item::before, #sk-container-id-3 div.sk-parallel-item::before {content: \"\";position: absolute;border-left: 1px solid gray;box-sizing: border-box;top: 0;bottom: 0;left: 50%;z-index: -1;}#sk-container-id-3 div.sk-parallel-item {display: flex;flex-direction: column;z-index: 1;position: relative;background-color: white;}#sk-container-id-3 div.sk-parallel-item:first-child::after {align-self: flex-end;width: 50%;}#sk-container-id-3 div.sk-parallel-item:last-child::after {align-self: flex-start;width: 50%;}#sk-container-id-3 div.sk-parallel-item:only-child::after {width: 0;}#sk-container-id-3 div.sk-dashed-wrapped {border: 1px dashed gray;margin: 0 0.4em 0.5em 0.4em;box-sizing: border-box;padding-bottom: 0.4em;background-color: white;}#sk-container-id-3 div.sk-label label {font-family: monospace;font-weight: bold;display: inline-block;line-height: 1.2em;}#sk-container-id-3 div.sk-label-container {text-align: center;}#sk-container-id-3 div.sk-container {/* jupyter's `normalize.less` sets `[hidden] { display: none; }` but bootstrap.min.css set `[hidden] { display: none !important; }` so we also need the `!important` here to be able to override the default hidden behavior on the sphinx rendered scikit-learn.org. See: https://github.com/scikit-learn/scikit-learn/issues/21755 */display: inline-block !important;position: relative;}#sk-container-id-3 div.sk-text-repr-fallback {display: none;}</style><div id=\"sk-container-id-3\" class=\"sk-top-container\"><div class=\"sk-text-repr-fallback\"><pre>GridSearchCV(cv=5, estimator=LogisticRegression(),\n",
       "             param_grid={&#x27;C&#x27;: [0.001, 0.01, 0.1, 1.0], &#x27;penalty&#x27;: [&#x27;l1&#x27;, &#x27;l2&#x27;],\n",
       "                         &#x27;solver&#x27;: [&#x27;liblinear&#x27;, &#x27;saga&#x27;]},\n",
       "             scoring=&#x27;accuracy&#x27;)</pre><b>In a Jupyter environment, please rerun this cell to show the HTML representation or trust the notebook. <br />On GitHub, the HTML representation is unable to render, please try loading this page with nbviewer.org.</b></div><div class=\"sk-container\" hidden><div class=\"sk-item sk-dashed-wrapped\"><div class=\"sk-label-container\"><div class=\"sk-label sk-toggleable\"><input class=\"sk-toggleable__control sk-hidden--visually\" id=\"sk-estimator-id-5\" type=\"checkbox\" ><label for=\"sk-estimator-id-5\" class=\"sk-toggleable__label sk-toggleable__label-arrow\">GridSearchCV</label><div class=\"sk-toggleable__content\"><pre>GridSearchCV(cv=5, estimator=LogisticRegression(),\n",
       "             param_grid={&#x27;C&#x27;: [0.001, 0.01, 0.1, 1.0], &#x27;penalty&#x27;: [&#x27;l1&#x27;, &#x27;l2&#x27;],\n",
       "                         &#x27;solver&#x27;: [&#x27;liblinear&#x27;, &#x27;saga&#x27;]},\n",
       "             scoring=&#x27;accuracy&#x27;)</pre></div></div></div><div class=\"sk-parallel\"><div class=\"sk-parallel-item\"><div class=\"sk-item\"><div class=\"sk-label-container\"><div class=\"sk-label sk-toggleable\"><input class=\"sk-toggleable__control sk-hidden--visually\" id=\"sk-estimator-id-6\" type=\"checkbox\" ><label for=\"sk-estimator-id-6\" class=\"sk-toggleable__label sk-toggleable__label-arrow\">estimator: LogisticRegression</label><div class=\"sk-toggleable__content\"><pre>LogisticRegression()</pre></div></div></div><div class=\"sk-serial\"><div class=\"sk-item\"><div class=\"sk-estimator sk-toggleable\"><input class=\"sk-toggleable__control sk-hidden--visually\" id=\"sk-estimator-id-7\" type=\"checkbox\" ><label for=\"sk-estimator-id-7\" class=\"sk-toggleable__label sk-toggleable__label-arrow\">LogisticRegression</label><div class=\"sk-toggleable__content\"><pre>LogisticRegression()</pre></div></div></div></div></div></div></div></div></div></div>"
      ],
      "text/plain": [
       "GridSearchCV(cv=5, estimator=LogisticRegression(),\n",
       "             param_grid={'C': [0.001, 0.01, 0.1, 1.0], 'penalty': ['l1', 'l2'],\n",
       "                         'solver': ['liblinear', 'saga']},\n",
       "             scoring='accuracy')"
      ]
     },
     "execution_count": 32,
     "metadata": {},
     "output_type": "execute_result"
    }
   ],
   "source": [
    "grid_search.fit(X_train, y_train)"
   ]
  },
  {
   "cell_type": "code",
   "execution_count": 33,
   "id": "d1e54d86",
   "metadata": {},
   "outputs": [
    {
     "name": "stdout",
     "output_type": "stream",
     "text": [
      "{'C': 0.001, 'penalty': 'l2', 'solver': 'liblinear'}\n"
     ]
    }
   ],
   "source": [
    "print(grid_search.best_params_)"
   ]
  },
  {
   "cell_type": "code",
   "execution_count": 34,
   "id": "bdd562b3",
   "metadata": {},
   "outputs": [
    {
     "name": "stdout",
     "output_type": "stream",
     "text": [
      "0.8439716312056736\n"
     ]
    }
   ],
   "source": [
    "print(grid_search.best_score_)"
   ]
  },
  {
   "cell_type": "markdown",
   "id": "dfbecb13",
   "metadata": {},
   "source": [
    "## hyperparameter tunning using gridsearch for svc"
   ]
  },
  {
   "cell_type": "code",
   "execution_count": 35,
   "id": "f8847467",
   "metadata": {},
   "outputs": [],
   "source": [
    "from sklearn.model_selection import GridSearchCV"
   ]
  },
  {
   "cell_type": "code",
   "execution_count": 36,
   "id": "edb6f718",
   "metadata": {},
   "outputs": [],
   "source": [
    "svc_par = {\n",
    "    'C':[0.1,1,10],\n",
    "    'kernel':['linear','rbf','sigmoid'],\n",
    "    'degree':[2,3,4],\n",
    "    'gamma':[0.1,1,10],\n",
    "    'coef0':[0,1,10]\n",
    "}"
   ]
  },
  {
   "cell_type": "code",
   "execution_count": 37,
   "id": "1f38a2d8",
   "metadata": {},
   "outputs": [],
   "source": [
    "grid_search_svc = GridSearchCV(svc, svc_par, cv=5, scoring='accuracy')"
   ]
  },
  {
   "cell_type": "code",
   "execution_count": 38,
   "id": "fc58cc95",
   "metadata": {},
   "outputs": [
    {
     "data": {
      "text/html": [
       "<style>#sk-container-id-4 {color: black;}#sk-container-id-4 pre{padding: 0;}#sk-container-id-4 div.sk-toggleable {background-color: white;}#sk-container-id-4 label.sk-toggleable__label {cursor: pointer;display: block;width: 100%;margin-bottom: 0;padding: 0.3em;box-sizing: border-box;text-align: center;}#sk-container-id-4 label.sk-toggleable__label-arrow:before {content: \"▸\";float: left;margin-right: 0.25em;color: #696969;}#sk-container-id-4 label.sk-toggleable__label-arrow:hover:before {color: black;}#sk-container-id-4 div.sk-estimator:hover label.sk-toggleable__label-arrow:before {color: black;}#sk-container-id-4 div.sk-toggleable__content {max-height: 0;max-width: 0;overflow: hidden;text-align: left;background-color: #f0f8ff;}#sk-container-id-4 div.sk-toggleable__content pre {margin: 0.2em;color: black;border-radius: 0.25em;background-color: #f0f8ff;}#sk-container-id-4 input.sk-toggleable__control:checked~div.sk-toggleable__content {max-height: 200px;max-width: 100%;overflow: auto;}#sk-container-id-4 input.sk-toggleable__control:checked~label.sk-toggleable__label-arrow:before {content: \"▾\";}#sk-container-id-4 div.sk-estimator input.sk-toggleable__control:checked~label.sk-toggleable__label {background-color: #d4ebff;}#sk-container-id-4 div.sk-label input.sk-toggleable__control:checked~label.sk-toggleable__label {background-color: #d4ebff;}#sk-container-id-4 input.sk-hidden--visually {border: 0;clip: rect(1px 1px 1px 1px);clip: rect(1px, 1px, 1px, 1px);height: 1px;margin: -1px;overflow: hidden;padding: 0;position: absolute;width: 1px;}#sk-container-id-4 div.sk-estimator {font-family: monospace;background-color: #f0f8ff;border: 1px dotted black;border-radius: 0.25em;box-sizing: border-box;margin-bottom: 0.5em;}#sk-container-id-4 div.sk-estimator:hover {background-color: #d4ebff;}#sk-container-id-4 div.sk-parallel-item::after {content: \"\";width: 100%;border-bottom: 1px solid gray;flex-grow: 1;}#sk-container-id-4 div.sk-label:hover label.sk-toggleable__label {background-color: #d4ebff;}#sk-container-id-4 div.sk-serial::before {content: \"\";position: absolute;border-left: 1px solid gray;box-sizing: border-box;top: 0;bottom: 0;left: 50%;z-index: 0;}#sk-container-id-4 div.sk-serial {display: flex;flex-direction: column;align-items: center;background-color: white;padding-right: 0.2em;padding-left: 0.2em;position: relative;}#sk-container-id-4 div.sk-item {position: relative;z-index: 1;}#sk-container-id-4 div.sk-parallel {display: flex;align-items: stretch;justify-content: center;background-color: white;position: relative;}#sk-container-id-4 div.sk-item::before, #sk-container-id-4 div.sk-parallel-item::before {content: \"\";position: absolute;border-left: 1px solid gray;box-sizing: border-box;top: 0;bottom: 0;left: 50%;z-index: -1;}#sk-container-id-4 div.sk-parallel-item {display: flex;flex-direction: column;z-index: 1;position: relative;background-color: white;}#sk-container-id-4 div.sk-parallel-item:first-child::after {align-self: flex-end;width: 50%;}#sk-container-id-4 div.sk-parallel-item:last-child::after {align-self: flex-start;width: 50%;}#sk-container-id-4 div.sk-parallel-item:only-child::after {width: 0;}#sk-container-id-4 div.sk-dashed-wrapped {border: 1px dashed gray;margin: 0 0.4em 0.5em 0.4em;box-sizing: border-box;padding-bottom: 0.4em;background-color: white;}#sk-container-id-4 div.sk-label label {font-family: monospace;font-weight: bold;display: inline-block;line-height: 1.2em;}#sk-container-id-4 div.sk-label-container {text-align: center;}#sk-container-id-4 div.sk-container {/* jupyter's `normalize.less` sets `[hidden] { display: none; }` but bootstrap.min.css set `[hidden] { display: none !important; }` so we also need the `!important` here to be able to override the default hidden behavior on the sphinx rendered scikit-learn.org. See: https://github.com/scikit-learn/scikit-learn/issues/21755 */display: inline-block !important;position: relative;}#sk-container-id-4 div.sk-text-repr-fallback {display: none;}</style><div id=\"sk-container-id-4\" class=\"sk-top-container\"><div class=\"sk-text-repr-fallback\"><pre>GridSearchCV(cv=5, estimator=SVC(),\n",
       "             param_grid={&#x27;C&#x27;: [0.1, 1, 10], &#x27;coef0&#x27;: [0, 1, 10],\n",
       "                         &#x27;degree&#x27;: [2, 3, 4], &#x27;gamma&#x27;: [0.1, 1, 10],\n",
       "                         &#x27;kernel&#x27;: [&#x27;linear&#x27;, &#x27;rbf&#x27;, &#x27;sigmoid&#x27;]},\n",
       "             scoring=&#x27;accuracy&#x27;)</pre><b>In a Jupyter environment, please rerun this cell to show the HTML representation or trust the notebook. <br />On GitHub, the HTML representation is unable to render, please try loading this page with nbviewer.org.</b></div><div class=\"sk-container\" hidden><div class=\"sk-item sk-dashed-wrapped\"><div class=\"sk-label-container\"><div class=\"sk-label sk-toggleable\"><input class=\"sk-toggleable__control sk-hidden--visually\" id=\"sk-estimator-id-8\" type=\"checkbox\" ><label for=\"sk-estimator-id-8\" class=\"sk-toggleable__label sk-toggleable__label-arrow\">GridSearchCV</label><div class=\"sk-toggleable__content\"><pre>GridSearchCV(cv=5, estimator=SVC(),\n",
       "             param_grid={&#x27;C&#x27;: [0.1, 1, 10], &#x27;coef0&#x27;: [0, 1, 10],\n",
       "                         &#x27;degree&#x27;: [2, 3, 4], &#x27;gamma&#x27;: [0.1, 1, 10],\n",
       "                         &#x27;kernel&#x27;: [&#x27;linear&#x27;, &#x27;rbf&#x27;, &#x27;sigmoid&#x27;]},\n",
       "             scoring=&#x27;accuracy&#x27;)</pre></div></div></div><div class=\"sk-parallel\"><div class=\"sk-parallel-item\"><div class=\"sk-item\"><div class=\"sk-label-container\"><div class=\"sk-label sk-toggleable\"><input class=\"sk-toggleable__control sk-hidden--visually\" id=\"sk-estimator-id-9\" type=\"checkbox\" ><label for=\"sk-estimator-id-9\" class=\"sk-toggleable__label sk-toggleable__label-arrow\">estimator: SVC</label><div class=\"sk-toggleable__content\"><pre>SVC()</pre></div></div></div><div class=\"sk-serial\"><div class=\"sk-item\"><div class=\"sk-estimator sk-toggleable\"><input class=\"sk-toggleable__control sk-hidden--visually\" id=\"sk-estimator-id-10\" type=\"checkbox\" ><label for=\"sk-estimator-id-10\" class=\"sk-toggleable__label sk-toggleable__label-arrow\">SVC</label><div class=\"sk-toggleable__content\"><pre>SVC()</pre></div></div></div></div></div></div></div></div></div></div>"
      ],
      "text/plain": [
       "GridSearchCV(cv=5, estimator=SVC(),\n",
       "             param_grid={'C': [0.1, 1, 10], 'coef0': [0, 1, 10],\n",
       "                         'degree': [2, 3, 4], 'gamma': [0.1, 1, 10],\n",
       "                         'kernel': ['linear', 'rbf', 'sigmoid']},\n",
       "             scoring='accuracy')"
      ]
     },
     "execution_count": 38,
     "metadata": {},
     "output_type": "execute_result"
    }
   ],
   "source": [
    "grid_search_svc.fit(X_train, y_train)"
   ]
  },
  {
   "cell_type": "code",
   "execution_count": 39,
   "id": "53d9c4a1",
   "metadata": {},
   "outputs": [
    {
     "name": "stdout",
     "output_type": "stream",
     "text": [
      "{'C': 0.1, 'coef0': 0, 'degree': 2, 'gamma': 0.1, 'kernel': 'sigmoid'}\n"
     ]
    }
   ],
   "source": [
    "print(grid_search_svc.best_params_)"
   ]
  },
  {
   "cell_type": "code",
   "execution_count": 40,
   "id": "ab2db7d9",
   "metadata": {},
   "outputs": [
    {
     "name": "stdout",
     "output_type": "stream",
     "text": [
      "0.8398049645390071\n"
     ]
    }
   ],
   "source": [
    "print(grid_search_svc.best_score_)"
   ]
  },
  {
   "cell_type": "code",
   "execution_count": 41,
   "id": "0076a54f",
   "metadata": {},
   "outputs": [
    {
     "data": {
      "text/html": [
       "<style>#sk-container-id-5 {color: black;}#sk-container-id-5 pre{padding: 0;}#sk-container-id-5 div.sk-toggleable {background-color: white;}#sk-container-id-5 label.sk-toggleable__label {cursor: pointer;display: block;width: 100%;margin-bottom: 0;padding: 0.3em;box-sizing: border-box;text-align: center;}#sk-container-id-5 label.sk-toggleable__label-arrow:before {content: \"▸\";float: left;margin-right: 0.25em;color: #696969;}#sk-container-id-5 label.sk-toggleable__label-arrow:hover:before {color: black;}#sk-container-id-5 div.sk-estimator:hover label.sk-toggleable__label-arrow:before {color: black;}#sk-container-id-5 div.sk-toggleable__content {max-height: 0;max-width: 0;overflow: hidden;text-align: left;background-color: #f0f8ff;}#sk-container-id-5 div.sk-toggleable__content pre {margin: 0.2em;color: black;border-radius: 0.25em;background-color: #f0f8ff;}#sk-container-id-5 input.sk-toggleable__control:checked~div.sk-toggleable__content {max-height: 200px;max-width: 100%;overflow: auto;}#sk-container-id-5 input.sk-toggleable__control:checked~label.sk-toggleable__label-arrow:before {content: \"▾\";}#sk-container-id-5 div.sk-estimator input.sk-toggleable__control:checked~label.sk-toggleable__label {background-color: #d4ebff;}#sk-container-id-5 div.sk-label input.sk-toggleable__control:checked~label.sk-toggleable__label {background-color: #d4ebff;}#sk-container-id-5 input.sk-hidden--visually {border: 0;clip: rect(1px 1px 1px 1px);clip: rect(1px, 1px, 1px, 1px);height: 1px;margin: -1px;overflow: hidden;padding: 0;position: absolute;width: 1px;}#sk-container-id-5 div.sk-estimator {font-family: monospace;background-color: #f0f8ff;border: 1px dotted black;border-radius: 0.25em;box-sizing: border-box;margin-bottom: 0.5em;}#sk-container-id-5 div.sk-estimator:hover {background-color: #d4ebff;}#sk-container-id-5 div.sk-parallel-item::after {content: \"\";width: 100%;border-bottom: 1px solid gray;flex-grow: 1;}#sk-container-id-5 div.sk-label:hover label.sk-toggleable__label {background-color: #d4ebff;}#sk-container-id-5 div.sk-serial::before {content: \"\";position: absolute;border-left: 1px solid gray;box-sizing: border-box;top: 0;bottom: 0;left: 50%;z-index: 0;}#sk-container-id-5 div.sk-serial {display: flex;flex-direction: column;align-items: center;background-color: white;padding-right: 0.2em;padding-left: 0.2em;position: relative;}#sk-container-id-5 div.sk-item {position: relative;z-index: 1;}#sk-container-id-5 div.sk-parallel {display: flex;align-items: stretch;justify-content: center;background-color: white;position: relative;}#sk-container-id-5 div.sk-item::before, #sk-container-id-5 div.sk-parallel-item::before {content: \"\";position: absolute;border-left: 1px solid gray;box-sizing: border-box;top: 0;bottom: 0;left: 50%;z-index: -1;}#sk-container-id-5 div.sk-parallel-item {display: flex;flex-direction: column;z-index: 1;position: relative;background-color: white;}#sk-container-id-5 div.sk-parallel-item:first-child::after {align-self: flex-end;width: 50%;}#sk-container-id-5 div.sk-parallel-item:last-child::after {align-self: flex-start;width: 50%;}#sk-container-id-5 div.sk-parallel-item:only-child::after {width: 0;}#sk-container-id-5 div.sk-dashed-wrapped {border: 1px dashed gray;margin: 0 0.4em 0.5em 0.4em;box-sizing: border-box;padding-bottom: 0.4em;background-color: white;}#sk-container-id-5 div.sk-label label {font-family: monospace;font-weight: bold;display: inline-block;line-height: 1.2em;}#sk-container-id-5 div.sk-label-container {text-align: center;}#sk-container-id-5 div.sk-container {/* jupyter's `normalize.less` sets `[hidden] { display: none; }` but bootstrap.min.css set `[hidden] { display: none !important; }` so we also need the `!important` here to be able to override the default hidden behavior on the sphinx rendered scikit-learn.org. See: https://github.com/scikit-learn/scikit-learn/issues/21755 */display: inline-block !important;position: relative;}#sk-container-id-5 div.sk-text-repr-fallback {display: none;}</style><div id=\"sk-container-id-5\" class=\"sk-top-container\"><div class=\"sk-text-repr-fallback\"><pre>SVC(C=0.1, coef0=0, degree=2, gamma=0.1, kernel=&#x27;sigmoid&#x27;)</pre><b>In a Jupyter environment, please rerun this cell to show the HTML representation or trust the notebook. <br />On GitHub, the HTML representation is unable to render, please try loading this page with nbviewer.org.</b></div><div class=\"sk-container\" hidden><div class=\"sk-item\"><div class=\"sk-estimator sk-toggleable\"><input class=\"sk-toggleable__control sk-hidden--visually\" id=\"sk-estimator-id-11\" type=\"checkbox\" checked><label for=\"sk-estimator-id-11\" class=\"sk-toggleable__label sk-toggleable__label-arrow\">SVC</label><div class=\"sk-toggleable__content\"><pre>SVC(C=0.1, coef0=0, degree=2, gamma=0.1, kernel=&#x27;sigmoid&#x27;)</pre></div></div></div></div></div>"
      ],
      "text/plain": [
       "SVC(C=0.1, coef0=0, degree=2, gamma=0.1, kernel='sigmoid')"
      ]
     },
     "execution_count": 41,
     "metadata": {},
     "output_type": "execute_result"
    }
   ],
   "source": [
    "grid_search_svc.best_estimator_"
   ]
  },
  {
   "cell_type": "raw",
   "id": "57b53273",
   "metadata": {},
   "source": [
    "\"DEVLOPED BY\" : \"IQRAR UL HASSAN\",\n",
    "\"TOOL\" : \"JUPYTER NOTEBOOK\",\n",
    "\"REFRENCE \" : \"SCIKIT-LEARN OFFICIAL WEB-PAGE\"&\"GOOGLE\"    "
   ]
  }
 ],
 "metadata": {
  "kernelspec": {
   "display_name": "Python 3 (ipykernel)",
   "language": "python",
   "name": "python3"
  },
  "language_info": {
   "codemirror_mode": {
    "name": "ipython",
    "version": 3
   },
   "file_extension": ".py",
   "mimetype": "text/x-python",
   "name": "python",
   "nbconvert_exporter": "python",
   "pygments_lexer": "ipython3",
   "version": "3.11.5"
  }
 },
 "nbformat": 4,
 "nbformat_minor": 5
}
